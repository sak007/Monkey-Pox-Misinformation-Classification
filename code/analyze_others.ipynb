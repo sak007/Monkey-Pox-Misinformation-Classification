{
 "cells": [
  {
   "cell_type": "code",
   "execution_count": 1,
   "id": "586b7a4d",
   "metadata": {},
   "outputs": [
    {
     "name": "stderr",
     "output_type": "stream",
     "text": [
      "[nltk_data] Downloading package stopwords to\n",
      "[nltk_data]     /Users/justinpahl/nltk_data...\n",
      "[nltk_data]   Package stopwords is already up-to-date!\n"
     ]
    },
    {
     "data": {
      "text/plain": [
       "True"
      ]
     },
     "execution_count": 1,
     "metadata": {},
     "output_type": "execute_result"
    }
   ],
   "source": [
    "import pandas as pd\n",
    "import nltk\n",
    "import re\n",
    "from nltk.corpus import stopwords\n",
    "import numpy as np\n",
    "from sklearn.metrics import accuracy_score\n",
    "from nltk.stem.porter import PorterStemmer\n",
    "import spacy\n",
    "import os\n",
    "pd.options.mode.chained_assignment = None\n",
    "nltk.download('stopwords')"
   ]
  },
  {
   "cell_type": "code",
   "execution_count": 2,
   "id": "c27108f8",
   "metadata": {},
   "outputs": [],
   "source": [
    "other_file_prefix = 'others'"
   ]
  },
  {
   "cell_type": "code",
   "execution_count": 3,
   "id": "f5184986",
   "metadata": {},
   "outputs": [],
   "source": [
    "csvname=\"processed_dataset/\"+other_file_prefix+\".csv\" #changed\n",
    "# csvname=file_prefix+\".csv\" #changed\n",
    "other_data=pd.read_csv(csvname)"
   ]
  },
  {
   "cell_type": "code",
   "execution_count": 4,
   "id": "bc0a2db2",
   "metadata": {},
   "outputs": [],
   "source": [
    "def normalize(df):\n",
    "    for feature in df.columns:\n",
    "        if feature != 'class':\n",
    "            feature_min = df[feature].min()\n",
    "            feature_max = df[feature].max()\n",
    "            df[feature] = (df[feature] - feature_min) / (feature_max - feature_min)    \n",
    "\n",
    "    return df"
   ]
  },
  {
   "cell_type": "code",
   "execution_count": 5,
   "id": "1cfc43c6-3d5f-482c-af78-0e914ad1657c",
   "metadata": {},
   "outputs": [],
   "source": [
    "df = normalize(other_data)"
   ]
  },
  {
   "cell_type": "code",
   "execution_count": 6,
   "id": "4a190900",
   "metadata": {},
   "outputs": [],
   "source": [
    "## PCA starts"
   ]
  },
  {
   "cell_type": "code",
   "execution_count": 7,
   "id": "fa4025df",
   "metadata": {},
   "outputs": [],
   "source": [
    "from sklearn.decomposition import PCA\n",
    "def perform_PCA (X_train, y_train, total_components, n_components):\n",
    "  pca = PCA(n_components=total_components, random_state=0)\n",
    "  pca.fit(X_train)\n",
    "  X_pca = pca.transform(X_train)\n",
    "\n",
    "  print(\"Variance explained by all\", total_components, \"principal components =\", sum(pca.explained_variance_ratio_ * 100))\n",
    "\n",
    "  csum = np.cumsum(pca.explained_variance_ratio_ * 100)\n",
    "  print(csum)\n",
    "  print ()\n",
    "\n",
    "  # plot \n",
    "  import matplotlib.pyplot as plt\n",
    "  plt.plot(csum)\n",
    "  plt.xlabel('Number of components')\n",
    "  plt.ylabel('Explained variance')\n",
    "  #plt.savefig('elbow_plot.png', dpi=100)\n",
    "\n",
    "  # find the number of components\n",
    "  print (csum[n_components-1])\n",
    "\n",
    "  x_train_pca=[x[:n_components] for x in X_pca]\n",
    "\n",
    "  print (len(x_train_pca[0]))\n",
    "  print ()\n",
    "\n",
    "  return x_train_pca"
   ]
  },
  {
   "cell_type": "code",
   "execution_count": 8,
   "id": "99ddf3f0",
   "metadata": {},
   "outputs": [],
   "source": [
    "# PCA on lemmatization data\n",
    "y = df['class']\n",
    "X = df.copy()\n",
    "X.drop ('class', axis=1, inplace=True)"
   ]
  },
  {
   "cell_type": "code",
   "execution_count": 9,
   "id": "f02be4f1",
   "metadata": {},
   "outputs": [
    {
     "name": "stdout",
     "output_type": "stream",
     "text": [
      "Variance explained by all 11 principal components = 100.00000000000001\n",
      "[ 63.36252455  86.1644634   98.47953451  99.32311723  99.59497593\n",
      "  99.78225891  99.89824597  99.94424806  99.97041504  99.99125607\n",
      " 100.        ]\n",
      "\n",
      "98.47953451198106\n",
      "3\n",
      "\n"
     ]
    },
    {
     "data": {
      "image/png": "[encoded data removed]",
      "text/plain": [
       "<Figure size 640x480 with 1 Axes>"
      ]
     },
     "metadata": {},
     "output_type": "display_data"
    }
   ],
   "source": [
    "# PCA lemmatization CV\n",
    "total_components = len(X.columns)\n",
    "# X_lemmatization_cv\n",
    "n_components = 3\n",
    "X_PCA = perform_PCA (X, y, total_components, n_components)"
   ]
  },
  {
   "cell_type": "code",
   "execution_count": 10,
   "id": "1b5ce1ef",
   "metadata": {},
   "outputs": [],
   "source": [
    "# def split_data_train_test_split(X,y):\n",
    "#  from sklearn.model_selection import train_test_split\n",
    "#  X_train, X_test, y_train, y_test = train_test_split(X, y, test_size = 0.2, random_state = 0)\n",
    "#  return(X_train, X_test,y_train,y_test)\n",
    "\n",
    "import math\n",
    "from sklearn.model_selection import train_test_split\n",
    "\n",
    "def split_data_train_test_split(X,y):\n",
    "    X_class = {\n",
    "        0: [],\n",
    "        1: []}\n",
    "    for i in range(len(y)):\n",
    "        X_class[y[i]].append(X[i])\n",
    "    X_0_candidate = X_class[0][:len(X_class[1])]\n",
    "    X_0_add = X_class[0][len(X_class[1]):]\n",
    "    \n",
    "    X_candidate = np.concatenate((X_0_candidate, X_class[1]))\n",
    "    \n",
    "    y_candidate = np.array([0 for i in range(len(X_0_candidate))])\n",
    "    y_candidate = np.concatenate((y_candidate,np.array([1 for i in range(len(X_0_candidate))])))\n",
    "\n",
    "    y_0_add = np.array([0 for i in range(len(X_0_add))])\n",
    "    \n",
    "    \n",
    "    X_train, X_test, y_train, y_test = train_test_split(X_candidate, y_candidate, test_size = 0.2, random_state = 0)\n",
    "\n",
    "#     X_test = np.concatenate((X_test, X_0_add))\n",
    "#     y_test = np.concatenate((y_test, y_0_add))\n",
    "    \n",
    "    return(X_train, X_test,y_train,y_test)"
   ]
  },
  {
   "cell_type": "code",
   "execution_count": 11,
   "id": "b39bc1f6",
   "metadata": {},
   "outputs": [],
   "source": [
    "X_train,X_test,y_train,y_test=split_data_train_test_split(X_PCA,y)"
   ]
  },
  {
   "cell_type": "code",
   "execution_count": 12,
   "id": "1c8a9b1e",
   "metadata": {},
   "outputs": [
    {
     "data": {
      "text/plain": [
       "array([0, 0, 1, 0, 1, 1, 1, 1, 1, 1, 1, 1, 0, 0, 1, 0, 0, 0, 1, 1, 0, 1,\n",
       "       0, 1, 1, 1, 1, 1, 0, 1, 0, 1, 1, 0, 1, 1, 0, 1, 1, 0, 0, 1, 0, 1,\n",
       "       0, 0, 0, 1, 0, 0, 0, 1, 1, 0, 0, 0, 0, 0, 1, 1, 0, 0, 0, 1, 1, 1,\n",
       "       0, 0, 0, 1, 0, 1, 1, 1, 1, 0, 0, 1, 0, 0, 0, 0, 1, 1, 0, 0, 0, 0,\n",
       "       0, 0, 1, 0, 1, 1, 0, 0, 0, 0, 0, 1, 1, 1, 1, 0, 0, 0, 1, 1, 1, 1,\n",
       "       1, 1, 1, 0, 0, 1, 1, 0, 1, 1, 0, 1, 1, 0, 0, 0, 0, 0, 0, 0, 1, 0,\n",
       "       0, 0, 1, 1, 1, 0, 0, 0, 1, 0, 1, 1, 1, 0, 0, 1, 1, 0, 1, 0, 0, 1,\n",
       "       1, 1, 0, 0, 1, 0, 1, 0, 1, 0, 1, 1, 1, 0, 1, 0, 0, 0, 0, 0, 0, 0,\n",
       "       0, 1, 1, 0, 1, 1, 0, 0, 0, 0, 0, 0, 0, 1, 1, 0, 0, 0, 0, 1, 0, 1,\n",
       "       0, 0, 0, 1, 1, 1, 0, 1, 1, 1, 1, 0, 1, 1, 1, 1, 1, 1, 0, 1, 1, 0,\n",
       "       0, 1, 0, 1, 0, 0, 0, 1, 0, 0, 0, 0, 0, 1, 0, 1, 0, 1, 1, 1, 1, 1,\n",
       "       1, 1, 0, 0, 0, 0, 1, 1, 1, 1, 1, 1, 1, 1, 1, 1, 1, 0, 0, 0, 0, 1,\n",
       "       0, 0, 1, 1, 0, 1, 1, 1, 1, 1, 0, 0, 0, 1, 1, 1, 1, 1, 1, 0, 0, 1,\n",
       "       1, 0, 0, 1, 0, 1, 0, 1, 1, 0, 1, 0, 1, 1, 1, 1, 0, 0, 0, 0, 1, 1,\n",
       "       0, 1, 0, 0, 1, 1, 0, 1, 0, 0, 0, 1, 0, 0, 0, 0, 0, 1, 0, 1, 0, 0,\n",
       "       0, 0, 1, 1, 1, 1, 1, 1, 0, 0, 0, 0, 0, 1, 1, 1, 1, 0, 0, 1, 0, 0,\n",
       "       0, 0, 1, 0, 0, 1, 0, 1, 1, 1, 1, 0, 0, 0, 1, 0, 1, 1, 1, 0, 1, 1,\n",
       "       0, 0, 0, 0, 0, 0, 1, 1, 0, 0, 0, 0, 1, 0, 1, 1, 1, 1, 1, 1, 1, 1,\n",
       "       0, 0, 1, 1, 0, 0, 1, 0, 0, 1, 0, 1, 0, 0, 0, 0, 0, 1, 0, 0, 1, 1,\n",
       "       0, 0, 0, 0, 1, 0, 0, 1, 1, 1])"
      ]
     },
     "execution_count": 12,
     "metadata": {},
     "output_type": "execute_result"
    }
   ],
   "source": [
    "y_test"
   ]
  },
  {
   "cell_type": "code",
   "execution_count": 13,
   "id": "b33dd5ff",
   "metadata": {},
   "outputs": [],
   "source": [
    "\n",
    "\n",
    "class Data:\n",
    "    def __init__(self, x_train, y_train, x_test, y_test):\n",
    "        self.x_train = x_train\n",
    "        self.y_train = y_train\n",
    "        self.x_test = x_test\n",
    "        self.y_test = y_test\n",
    "\n",
    "from sklearn.metrics import accuracy_score\n",
    "from sklearn.metrics import precision_score\n",
    "from sklearn.metrics import recall_score\n",
    "from sklearn.metrics import confusion_matrix\n",
    "from sklearn.metrics import f1_score\n",
    "\n",
    "class Result:\n",
    "    def __init__(self, y_test, y_pred, label=None):\n",
    "        self.label = label\n",
    "        self.accuracy = accuracy_score(y_test,y_pred) * 100\n",
    "        self.precision = precision_score(y_test, y_pred, average='binary') * 100\n",
    "        self.recall = recall_score(y_test, y_pred, average='binary') * 100\n",
    "        self.f1 = f1_score(y_test, y_pred, average='binary') * 100\n",
    "        self.confusion_matrix = confusion_matrix(y_test, y_pred)\n",
    "        \n",
    "    def show(self):\n",
    "        print(\"Accuracy = \",self.accuracy,\"%\")\n",
    "        print(\"Precision = \",self.precision)\n",
    "        print(\"Recall = \",self.recall)\n",
    "        print(\"F1 Score = \",self.f1)\n",
    "        print(\"Confusion Matrix: \\n\", self.confusion_matrix)\n",
    "        \n",
    "def getResult(data, res):\n",
    "    result = Result(data.y_test, res)\n",
    "    result.show()\n",
    "    return result\n",
    "\n",
    "from sklearn.model_selection import GridSearchCV\n",
    "from sklearn import metrics\n",
    "from sklearn.metrics import make_scorer\n",
    "\n",
    "def getBestModel(data, model, param_grid, cv=10):\n",
    "    scorer = make_scorer(metrics.f1_score , average='binary')\n",
    "    grid = GridSearchCV(model, \n",
    "                        param_grid,\n",
    "                        cv=cv,\n",
    "                        scoring=scorer)\n",
    "\n",
    "\n",
    "    grid.fit(data.x_train, data.y_train)\n",
    "    \n",
    "    return grid"
   ]
  },
  {
   "cell_type": "code",
   "execution_count": 14,
   "id": "0e20d899",
   "metadata": {},
   "outputs": [],
   "source": [
    "from sklearn.svm import SVC\n",
    "from sklearn import svm\n",
    "\n",
    "def runSVM(data):\n",
    "    svm_param_grid = {'C': [0.1, 0.2, 0.3, 0.5, 1, 2, 3, 5, 10], \n",
    "                      'kernel': ['linear', 'rbf', 'poly', 'sigmoid'],\n",
    "                      'gamma': [1,0.1,0.01,0.001]\n",
    "                     } \n",
    "\n",
    "    grid = getBestModel(data, svm.SVC(), svm_param_grid, cv=10)\n",
    "\n",
    "    y_pred = grid.predict(data.x_test)\n",
    "    getResult(data, y_pred)\n",
    "    print(grid.best_params_)\n",
    "    return grid\n",
    "\n",
    "from sklearn.ensemble import RandomForestClassifier\n",
    "\n",
    "def runRF(data):\n",
    "    random_forest_params_grid = {\n",
    "        'n_estimators': [i for i in range(100, 1000, 100)],\n",
    "        'criterion': ['gini', 'entropy'],\n",
    "        'max_features': ['sqrt', 'log2'],\n",
    "        'min_samples_leaf': [1, 2, 4],\n",
    "        'min_samples_split': [2, 5, 10],\n",
    "        'random_state': [0]\n",
    "    }\n",
    "\n",
    "    grid = getBestModel(data, RandomForestClassifier(), random_forest_params_grid, 10)\n",
    "\n",
    "    y_pred = grid.predict(data.x_test)\n",
    "    getResult(data, y_pred)\n",
    "    print(grid.best_params_)\n",
    "    return grid\n",
    "    \n",
    "from sklearn.tree import DecisionTreeClassifier\n",
    "\n",
    "def runDT(data):\n",
    "    decision_tree_params = {\n",
    "        'criterion': ['gini', 'entropy'],\n",
    "        'max_depth': [i for i in range(100, 1000, 100)],\n",
    "        'max_features': ['sqrt', 'log2'],\n",
    "        'random_state': [0]\n",
    "    }\n",
    "\n",
    "    grid = getBestModel(data, DecisionTreeClassifier(), decision_tree_params)\n",
    "\n",
    "    y_pred = grid.predict(data.x_test)\n",
    "\n",
    "    getResult(data, y_pred)\n",
    "\n",
    "    print(grid.best_params_)\n",
    "    return grid\n",
    "\n",
    "from sklearn.neighbors import KNeighborsClassifier\n",
    "\n",
    "def runKNN(data):\n",
    "\n",
    "    knn_params_grid = {\n",
    "        'n_neighbors': [i for i in range(3,20)],\n",
    "        'p': [1,2],\n",
    "        'metric' : ['minkowski','euclidean','manhattan', 'chebyshev'],\n",
    "        'algorithm': ['auto', 'ball_tree', 'kd_tree', 'brute']\n",
    "    }\n",
    "\n",
    "    grid = getBestModel(data, KNeighborsClassifier(), knn_params_grid)\n",
    "\n",
    "    y_pred = grid.predict(data.x_test)\n",
    "\n",
    "    getResult(data, y_pred)\n",
    "\n",
    "    print(grid.best_params_)\n",
    "    return grid\n",
    "\n",
    "from sklearn.naive_bayes import GaussianNB\n",
    "\n",
    "def runNB(data):\n",
    "\n",
    "    nb_params_grid = {\n",
    "    }\n",
    "\n",
    "    grid = getBestModel(data, GaussianNB(), nb_params_grid)\n",
    "\n",
    "    y_pred = grid.predict(data.x_test)\n",
    "\n",
    "    getResult(data, y_pred)\n",
    "\n",
    "    print(grid.best_params_)\n",
    "    return grid\n"
   ]
  },
  {
   "cell_type": "code",
   "execution_count": 15,
   "id": "9e1c45c4",
   "metadata": {},
   "outputs": [],
   "source": [
    "data = Data(X_train, y_train, X_test, y_test)"
   ]
  },
  {
   "cell_type": "code",
   "execution_count": 16,
   "id": "8c0c0c98",
   "metadata": {},
   "outputs": [
    {
     "name": "stdout",
     "output_type": "stream",
     "text": [
      "SVM\n",
      "Accuracy =  73.5981308411215 %\n",
      "Precision =  70.46413502109705\n",
      "Recall =  79.52380952380952\n",
      "F1 Score =  74.72035794183446\n",
      "Confusion Matrix: \n",
      " [[148  70]\n",
      " [ 43 167]]\n",
      "{'C': 0.1, 'gamma': 1, 'kernel': 'rbf'}\n"
     ]
    }
   ],
   "source": [
    "print('SVM')\n",
    "grid = runSVM(data)"
   ]
  },
  {
   "cell_type": "code",
   "execution_count": 17,
   "id": "7df7e29a",
   "metadata": {},
   "outputs": [
    {
     "name": "stdout",
     "output_type": "stream",
     "text": [
      "RF\n",
      "Accuracy =  73.13084112149532 %\n",
      "Precision =  72.51184834123224\n",
      "Recall =  72.85714285714285\n",
      "F1 Score =  72.68408551068883\n",
      "Confusion Matrix: \n",
      " [[160  58]\n",
      " [ 57 153]]\n",
      "{'criterion': 'entropy', 'max_features': 'sqrt', 'min_samples_leaf': 2, 'min_samples_split': 5, 'n_estimators': 700, 'random_state': 0}\n"
     ]
    }
   ],
   "source": [
    "print('RF')\n",
    "grid = runRF(data)"
   ]
  },
  {
   "cell_type": "code",
   "execution_count": 18,
   "id": "625a9808",
   "metadata": {},
   "outputs": [
    {
     "name": "stdout",
     "output_type": "stream",
     "text": [
      "DT\n",
      "Accuracy =  68.45794392523365 %\n",
      "Precision =  67.6056338028169\n",
      "Recall =  68.57142857142857\n",
      "F1 Score =  68.08510638297872\n",
      "Confusion Matrix: \n",
      " [[149  69]\n",
      " [ 66 144]]\n",
      "{'criterion': 'gini', 'max_depth': 100, 'max_features': 'sqrt', 'random_state': 0}\n"
     ]
    }
   ],
   "source": [
    "print('DT')\n",
    "grid = runDT(data)"
   ]
  },
  {
   "cell_type": "code",
   "execution_count": 19,
   "id": "f59dda81",
   "metadata": {},
   "outputs": [
    {
     "name": "stdout",
     "output_type": "stream",
     "text": [
      "KNN\n",
      "Accuracy =  72.42990654205607 %\n",
      "Precision =  71.29629629629629\n",
      "Recall =  73.33333333333333\n",
      "F1 Score =  72.30046948356808\n",
      "Confusion Matrix: \n",
      " [[156  62]\n",
      " [ 56 154]]\n",
      "{'algorithm': 'auto', 'metric': 'minkowski', 'n_neighbors': 19, 'p': 1}\n"
     ]
    }
   ],
   "source": [
    "print('KNN')\n",
    "grid = runKNN(data)"
   ]
  },
  {
   "cell_type": "code",
   "execution_count": 20,
   "id": "7b98a5e3",
   "metadata": {},
   "outputs": [
    {
     "name": "stdout",
     "output_type": "stream",
     "text": [
      "NB\n",
      "Accuracy =  73.13084112149532 %\n",
      "Precision =  70.74235807860262\n",
      "Recall =  77.14285714285715\n",
      "F1 Score =  73.80410022779043\n",
      "Confusion Matrix: \n",
      " [[151  67]\n",
      " [ 48 162]]\n",
      "{}\n"
     ]
    }
   ],
   "source": [
    "print('NB')\n",
    "grid = runNB(data)"
   ]
  },
  {
   "cell_type": "code",
   "execution_count": null,
   "id": "098a72ed",
   "metadata": {},
   "outputs": [],
   "source": []
  }
 ],
 "metadata": {
  "kernelspec": {
   "display_name": "Python 3 (ipykernel)",
   "language": "python",
   "name": "python3"
  },
  "language_info": {
   "codemirror_mode": {
    "name": "ipython",
    "version": 3
   },
   "file_extension": ".py",
   "mimetype": "text/x-python",
   "name": "python",
   "nbconvert_exporter": "python",
   "pygments_lexer": "ipython3",
   "version": "3.9.12"
  }
 },
 "nbformat": 4,
 "nbformat_minor": 5
}
