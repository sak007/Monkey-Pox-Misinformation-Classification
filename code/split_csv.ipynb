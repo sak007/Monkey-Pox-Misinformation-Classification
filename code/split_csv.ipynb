{
 "cells": [
  {
   "cell_type": "code",
   "execution_count": 41,
   "id": "52406452",
   "metadata": {},
   "outputs": [],
   "source": [
    "import pandas as pd\n",
    "import os\n",
    "\n",
    "tweet_field = 'text'\n",
    "bio_field = 'user description'\n",
    "class1 = 'binary_class'\n",
    "class2 = 'ternary_class'\n",
    "cls = 'class'\n",
    "unused_feat = ['number', 'user location', 'source', class2]\n",
    "\n",
    "df = pd.read_csv('../data/monkeypox.csv')\n",
    "\n",
    "df = df.drop(unused_feat, axis=1)\n",
    "df[cls] = df[class1]\n",
    "\n",
    "df = df.drop([class1], axis=1)\n",
    "\n",
    "df_bio = pd.DataFrame([df[bio_field], df[cls]]).transpose()\n",
    "df_tweet = pd.DataFrame([df[tweet_field], df[cls]]).transpose()\n",
    "df_hashtag = pd.DataFrame([df[tweet_field], df[cls]]).transpose()\n",
    "df_others = df.drop([bio_field, tweet_field], axis=1)"
   ]
  },
  {
   "cell_type": "code",
   "execution_count": 42,
   "id": "21e10e3d",
   "metadata": {},
   "outputs": [],
   "source": [
    "# Remove hashtags from df_tweet\n"
   ]
  },
  {
   "cell_type": "code",
   "execution_count": 43,
   "id": "75238978",
   "metadata": {},
   "outputs": [],
   "source": [
    "# Filter text from df_hashtag\n"
   ]
  },
  {
   "cell_type": "code",
   "execution_count": 44,
   "id": "705b841b",
   "metadata": {},
   "outputs": [
    {
     "data": {
      "text/plain": [
       "Index(['user description', 'class'], dtype='object')"
      ]
     },
     "execution_count": 44,
     "metadata": {},
     "output_type": "execute_result"
    }
   ],
   "source": [
    "df_bio.columns"
   ]
  },
  {
   "cell_type": "code",
   "execution_count": 45,
   "id": "229727a6",
   "metadata": {},
   "outputs": [
    {
     "data": {
      "text/plain": [
       "Index(['text', 'class'], dtype='object')"
      ]
     },
     "execution_count": 45,
     "metadata": {},
     "output_type": "execute_result"
    }
   ],
   "source": [
    "df_tweet.columns"
   ]
  },
  {
   "cell_type": "code",
   "execution_count": 46,
   "id": "9ad2ff0f",
   "metadata": {},
   "outputs": [
    {
     "data": {
      "text/plain": [
       "Index(['text', 'class'], dtype='object')"
      ]
     },
     "execution_count": 46,
     "metadata": {},
     "output_type": "execute_result"
    }
   ],
   "source": [
    "df_hashtag.columns"
   ]
  },
  {
   "cell_type": "code",
   "execution_count": 47,
   "id": "b3685ce7",
   "metadata": {},
   "outputs": [
    {
     "data": {
      "text/plain": [
       "Index(['created_at', 'user is verified', 'user has url', 'user created at',\n",
       "       'retweet_count', 'reply_count', 'like_count', 'quote_count',\n",
       "       'followers count', 'following count', 'tweet count', 'listed_count',\n",
       "       'class'],\n",
       "      dtype='object')"
      ]
     },
     "execution_count": 47,
     "metadata": {},
     "output_type": "execute_result"
    }
   ],
   "source": [
    "df_others.columns"
   ]
  },
  {
   "cell_type": "code",
   "execution_count": 9,
   "id": "d57c6d82",
   "metadata": {},
   "outputs": [],
   "source": [
    "os.makedirs('filtered_dataset', exist_ok=True)\n",
    "df_bio.to_csv('filtered_dataset/bio.csv',index=False) \n",
    "df_tweet.to_csv('filtered_dataset/tweet.csv',index=False) \n",
    "df_hashtag.to_csv('filtered_dataset/hashtag.csv',index=False) \n",
    "df_others.to_csv('filtered_dataset/others.csv',index=False) "
   ]
  },
  {
   "cell_type": "code",
   "execution_count": null,
   "id": "4e0b48f8",
   "metadata": {},
   "outputs": [],
   "source": []
  }
 ],
 "metadata": {
  "kernelspec": {
   "display_name": "Python 3 (ipykernel)",
   "language": "python",
   "name": "python3"
  },
  "language_info": {
   "codemirror_mode": {
    "name": "ipython",
    "version": 3
   },
   "file_extension": ".py",
   "mimetype": "text/x-python",
   "name": "python",
   "nbconvert_exporter": "python",
   "pygments_lexer": "ipython3",
   "version": "3.9.12"
  }
 },
 "nbformat": 4,
 "nbformat_minor": 5
}
