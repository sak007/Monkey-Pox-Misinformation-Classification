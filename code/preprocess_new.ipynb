{
 "cells": [
  {
   "cell_type": "code",
   "execution_count": 1,
   "id": "d161b227",
   "metadata": {},
   "outputs": [
    {
     "name": "stderr",
     "output_type": "stream",
     "text": [
      "[nltk_data] Downloading package stopwords to /Users/ashok/nltk_data...\n",
      "[nltk_data]   Package stopwords is already up-to-date!\n"
     ]
    }
   ],
   "source": [
    "import pandas as pd\n",
    "import matplotlib.pyplot as plt\n",
    "from matplotlib.ticker import FormatStrFormatter\n",
    "import numpy as np\n",
    "import statsmodels.api as sm\n",
    "from io import StringIO\n",
    "\n",
    "import preprocessor as pp\n",
    "import emoji\n",
    "from nltk.tokenize import TweetTokenizer\n",
    "from sklearn.neighbors import KNeighborsClassifier\n",
    "\n",
    "import nltk\n",
    "import re\n",
    "nltk.download(\"stopwords\")\n",
    "from nltk.corpus import stopwords\n",
    "from nltk.stem.porter import PorterStemmer\n",
    "import datetime\n",
    "from sklearn.feature_extraction.text import CountVectorizer"
   ]
  },
  {
   "cell_type": "code",
   "execution_count": 2,
   "id": "9e618d68",
   "metadata": {},
   "outputs": [],
   "source": [
    "numeric_feat = np.array(['retweet_count','reply_count', 'like_count', 'quote_count', 'followers count', \n",
    "                    'following count', 'tweet count', 'listed_count'])\n",
    "\n",
    "cat_feat = np.array(['user is verified', 'user has url'])\n",
    "\n",
    "date_feat = np.array(['created_at', 'user created at'])\n",
    "\n",
    "text_feat = np.array(['text', 'user description'])\n",
    "\n",
    "\n",
    "class1 = 'binary_class'\n",
    "class2 = 'ternary_class'\n",
    "\n",
    "unused_feat = ['number', 'user created at', 'created_at', 'source', 'user location', class2]\n",
    "\n",
    "cls = class1"
   ]
  },
  {
   "cell_type": "code",
   "execution_count": 3,
   "id": "0ae30666",
   "metadata": {},
   "outputs": [],
   "source": [
    "def preprocess_cat(df, c):\n",
    "    # one hot encoding for categorical data\n",
    "    df = pd.get_dummies(df, columns = [c])\n",
    "    return df"
   ]
  },
  {
   "cell_type": "code",
   "execution_count": 4,
   "id": "7a64e606",
   "metadata": {},
   "outputs": [],
   "source": [
    "# TODO\n",
    "def preprocess_date(df, c):\n",
    "    return df"
   ]
  },
  {
   "cell_type": "code",
   "execution_count": 5,
   "id": "80d33825",
   "metadata": {},
   "outputs": [],
   "source": [
    "def filter_text(df, c):\n",
    "    arr = []\n",
    "    for i in range (len(df)):\n",
    "        #Preprocess the tweets\n",
    "        oldtext=df[c][i]\n",
    "        #removes hashtags\n",
    "        newtext=' '.join(re.sub(\"(#[A-Za-z0-9]+)\",\" \",str(oldtext)).split())\n",
    "        #removes UserID\n",
    "        newtext=' '.join(re.sub(\"(@[A-Za-z0-9]+)\",\" \",str(newtext)).split())\n",
    "        #removes urls\n",
    "        newtext=' '.join(re.sub(\"(_URL_)\",\" \",str(newtext)).split())\n",
    "        #removes additional urls as well\n",
    "        newtext=' '.join(re.sub(\"(\\w+:\\/\\/\\S+)\",\" \",str(newtext)).split())\n",
    "        #keeps only alphanumeric characters\n",
    "        newtext= re.sub('[^a-zA-Z0-9]',\" \",str(newtext))\n",
    "        #converts to lower case and splits\n",
    "        newtext=newtext.lower()\n",
    "        newtext=newtext.split()\n",
    "        #Performs Stemming    \n",
    "        ps=PorterStemmer()\n",
    "        newtext= [ps.stem(word) for word in newtext if word not in set(stopwords.words('english'))]\n",
    "        newtext=' '.join(newtext)\n",
    "        arr.append(newtext)\n",
    "    df[c] = np.array(arr)\n",
    "    return df\n",
    "                    \n",
    "def preprocess_text(df, c):\n",
    "    df = filter_text(df,c)\n",
    "    corpus=[]\n",
    "    for i in range(len(df)):\n",
    "        newtext=df[c][i]\n",
    "#         if(len(str((newtext)))!=0 and str(newtext)!='nan'):\n",
    "        corpus.append(newtext)\n",
    "\n",
    "    cv = CountVectorizer(max_features = 1000)\n",
    "    X2 = cv.fit_transform(corpus).toarray()\n",
    "    c_names = cv.get_feature_names_out()\n",
    "    c_names = [c + '_' + x for x in c_names]\n",
    "    df = df.drop(c, axis=1)\n",
    "#     for i in range(len(X2[0])):\n",
    "#         df[c + c_names[i]] = np.array(X2[:,i])\n",
    "    \n",
    "    df1 = pd.DataFrame(np.array(X2), columns=c_names)\n",
    "#     print(df1.columns)\n",
    "    \n",
    "    df = pd.concat([df,df1], axis=1)\n",
    "#     print(df.columns)\n",
    "    return df"
   ]
  },
  {
   "cell_type": "code",
   "execution_count": 6,
   "id": "614dda39",
   "metadata": {},
   "outputs": [],
   "source": [
    "# TODO\n",
    "def preprocess_loc(df, c):\n",
    "    return df"
   ]
  },
  {
   "cell_type": "code",
   "execution_count": 7,
   "id": "1b75375e",
   "metadata": {},
   "outputs": [],
   "source": [
    "def convert_to_numeric(df):\n",
    "    columns = df.columns\n",
    "    for c in columns:\n",
    "        if c in cat_feat:\n",
    "            df = preprocess_cat(df, c)\n",
    "        elif c in date_feat:\n",
    "            df = preprocess_date(df, c)\n",
    "        elif c in text_feat:\n",
    "            df = preprocess_text(df, c)\n",
    "    return df"
   ]
  },
  {
   "cell_type": "code",
   "execution_count": 8,
   "id": "835f1362",
   "metadata": {},
   "outputs": [],
   "source": [
    "def normalize(df):\n",
    "    for feature in df.columns:\n",
    "        if feature != class1 and feature != class2:\n",
    "            feature_min = df[feature].min()\n",
    "            feature_max = df[feature].max()\n",
    "            df[feature] = (df[feature] - feature_min) / (feature_max - feature_min)    \n",
    "\n",
    "    return df"
   ]
  },
  {
   "cell_type": "code",
   "execution_count": 9,
   "id": "f3d2a6aa",
   "metadata": {},
   "outputs": [],
   "source": [
    "def preprocess(df):\n",
    "    df = convert_to_numeric(df)\n",
    "    \n",
    "    df = normalize(df)\n",
    "    return df"
   ]
  },
  {
   "cell_type": "code",
   "execution_count": 10,
   "id": "072159aa",
   "metadata": {},
   "outputs": [],
   "source": [
    "ds_train = pd.read_csv('../data/monkeypox.csv')\n",
    "ds_test = pd.read_csv('../data/monkeypox-followup.csv')\n",
    "\n",
    "ds_train = ds_train.drop(unused_feat, axis=1)\n",
    "ds_test = ds_test.drop(unused_feat, axis=1)\n",
    "ds_test = ds_test.drop('beto_flag', axis=1)\n",
    "ds_train = preprocess(ds_train)\n",
    "ds_test = preprocess(ds_test)\n",
    "\n",
    "cols_to_remove = np.setdiff1d(ds_test.columns, ds_train.columns)\n",
    "\n",
    "cols_to_add = np.setdiff1d(ds_train.columns, ds_test.columns)\n",
    "\n",
    "ds_test = ds_test.drop(cols_to_remove, axis=1)\n",
    "\n",
    "df1 = pd.DataFrame([[0 for i in range(len(cols_to_add))] for c in range(len(ds_test))], columns=cols_to_add)\n",
    "\n",
    "ds_test = pd.concat([ds_test, df1], axis=1)\n",
    "\n"
   ]
  },
  {
   "cell_type": "code",
   "execution_count": 11,
   "id": "c3040912",
   "metadata": {},
   "outputs": [
    {
     "data": {
      "text/plain": [
       "<bound method NDFrame.describe of       retweet_count  reply_count  like_count  quote_count  followers count  \\\n",
       "0          0.000877          0.0    0.000137     0.000000     1.670395e-04   \n",
       "1          0.000877          0.0    0.000069     0.000000     3.427383e-03   \n",
       "2          0.000000          0.0    0.000000     0.000000     1.288952e-04   \n",
       "3          0.000438          0.0    0.000069     0.000000     1.034822e-03   \n",
       "4          0.000000          0.0    0.000000     0.000000     3.674146e-03   \n",
       "...             ...          ...         ...          ...              ...   \n",
       "5782       0.000000          0.0    0.000000     0.000000     1.807787e-07   \n",
       "5783       0.000000          0.0    0.000000     0.000000     1.807787e-07   \n",
       "5784       0.000000          0.0    0.000137     0.000000     2.982848e-06   \n",
       "5785       0.000000          0.0    0.000000     0.000000     1.599891e-05   \n",
       "5786       0.000438          0.0    0.000275     0.000624     1.782478e-04   \n",
       "\n",
       "      following count  tweet count  listed_count  binary_class  text_00  ...  \\\n",
       "0            0.006849     0.001264      0.000346             0      0.0  ...   \n",
       "1            0.004012     0.045894      0.007349             0      0.0  ...   \n",
       "2            0.005449     0.003881      0.000194             0      0.0  ...   \n",
       "3            0.012964     0.043602      0.009176             0      0.0  ...   \n",
       "4            0.001066     0.054190      0.010338             0      0.0  ...   \n",
       "...               ...          ...           ...           ...      ...  ...   \n",
       "5782         0.000455     0.000144      0.000000             1      0.0  ...   \n",
       "5783         0.000455     0.000144      0.000000             1      0.0  ...   \n",
       "5784         0.000460     0.002571      0.000000             1      0.0  ...   \n",
       "5785         0.005378     0.001121      0.000014             1      0.0  ...   \n",
       "5786         0.002870     0.000755      0.000125             1      0.0  ...   \n",
       "\n",
       "      user description_write  user description_writer  user description_wrong  \\\n",
       "0                        0.0                      0.0                     0.0   \n",
       "1                        0.0                      0.0                     0.0   \n",
       "2                        0.0                      0.0                     0.0   \n",
       "3                        0.0                      0.0                     0.0   \n",
       "4                        0.0                      0.0                     0.0   \n",
       "...                      ...                      ...                     ...   \n",
       "5782                     0.0                      0.0                     0.0   \n",
       "5783                     0.0                      0.0                     0.0   \n",
       "5784                     0.0                      0.0                     0.0   \n",
       "5785                     0.0                      0.0                     0.0   \n",
       "5786                     0.0                      0.0                     0.0   \n",
       "\n",
       "      user description_ye  user description_year  user description_york  \\\n",
       "0                     0.0                    0.0                    0.0   \n",
       "1                     0.0                    0.0                    0.0   \n",
       "2                     0.0                    0.0                    0.0   \n",
       "3                     0.0                    0.0                    0.0   \n",
       "4                     0.0                    0.0                    0.0   \n",
       "...                   ...                    ...                    ...   \n",
       "5782                  0.0                    0.0                    0.0   \n",
       "5783                  0.0                    0.0                    0.0   \n",
       "5784                  0.0                    0.0                    0.0   \n",
       "5785                  0.0                    0.0                    0.0   \n",
       "5786                  0.0                    0.0                    0.0   \n",
       "\n",
       "      user description_youtub  user description_yr  user description_zealand  \\\n",
       "0                         0.0                  0.0                       0.0   \n",
       "1                         0.0                  0.0                       0.0   \n",
       "2                         0.0                  0.0                       0.0   \n",
       "3                         0.0                  0.0                       0.0   \n",
       "4                         0.0                  0.0                       0.0   \n",
       "...                       ...                  ...                       ...   \n",
       "5782                      0.0                  0.0                       0.0   \n",
       "5783                      0.0                  0.0                       0.0   \n",
       "5784                      0.0                  0.0                       0.0   \n",
       "5785                      0.0                  0.0                       0.0   \n",
       "5786                      0.0                  0.0                       0.0   \n",
       "\n",
       "      user description_zero  \n",
       "0                       0.0  \n",
       "1                       0.0  \n",
       "2                       0.0  \n",
       "3                       0.0  \n",
       "4                       0.0  \n",
       "...                     ...  \n",
       "5782                    0.0  \n",
       "5783                    0.0  \n",
       "5784                    0.0  \n",
       "5785                    0.0  \n",
       "5786                    0.0  \n",
       "\n",
       "[5787 rows x 2013 columns]>"
      ]
     },
     "execution_count": 11,
     "metadata": {},
     "output_type": "execute_result"
    }
   ],
   "source": [
    "ds_train.describe"
   ]
  },
  {
   "cell_type": "code",
   "execution_count": 12,
   "id": "6e845066",
   "metadata": {},
   "outputs": [
    {
     "data": {
      "text/plain": [
       "<bound method NDFrame.describe of      retweet_count  reply_count  like_count  quote_count  followers count  \\\n",
       "0         0.000000      0.00000    0.000000          0.0     1.322114e-04   \n",
       "1         0.007874      0.00000    0.000000          0.0     1.174516e-07   \n",
       "2         0.000000      0.00000    0.000000          0.0     1.519041e-05   \n",
       "3         0.000000      0.00000    0.000000          0.0     6.350217e-05   \n",
       "4         0.031496      0.00000    0.005855          0.0     8.789295e-05   \n",
       "..             ...          ...         ...          ...              ...   \n",
       "495       0.000000      0.00000    0.001171          0.0     2.529124e-05   \n",
       "496       0.000000      0.00000    0.000000          0.0     1.418424e-04   \n",
       "497       0.039370      0.01626    0.042155          0.0     1.261078e-03   \n",
       "498       0.000000      0.00000    0.002342          0.0     9.004623e-06   \n",
       "499       0.000000      0.00000    0.000000          0.0     3.915053e-08   \n",
       "\n",
       "     following count  tweet count  listed_count  binary_class  text_000  ...  \\\n",
       "0           0.056267     0.028168      0.000015             0       0.0  ...   \n",
       "1           0.000000     0.000836      0.000000             0       0.0  ...   \n",
       "2           0.002486     0.000661      0.000007             0       0.0  ...   \n",
       "3           0.003483     0.002812      0.000347             0       0.0  ...   \n",
       "4           0.038267     0.013280      0.000273             0       0.0  ...   \n",
       "..               ...          ...           ...           ...       ...  ...   \n",
       "495         0.007012     0.001303      0.000155             0       0.0  ...   \n",
       "496         0.034693     0.099732      0.000089             0       0.0  ...   \n",
       "497         0.013325     0.009101      0.000952             0       0.0  ...   \n",
       "498         0.001994     0.003949      0.000015             0       0.0  ...   \n",
       "499         0.000791     0.000763      0.000000             0       0.0  ...   \n",
       "\n",
       "     user description_west  user description_wish  user description_wit  \\\n",
       "0                        0                      0                     0   \n",
       "1                        0                      0                     0   \n",
       "2                        0                      0                     0   \n",
       "3                        0                      0                     0   \n",
       "4                        0                      0                     0   \n",
       "..                     ...                    ...                   ...   \n",
       "495                      0                      0                     0   \n",
       "496                      0                      0                     0   \n",
       "497                      0                      0                     0   \n",
       "498                      0                      0                     0   \n",
       "499                      0                      0                     0   \n",
       "\n",
       "     user description_without  user description_wonder  \\\n",
       "0                           0                        0   \n",
       "1                           0                        0   \n",
       "2                           0                        0   \n",
       "3                           0                        0   \n",
       "4                           0                        0   \n",
       "..                        ...                      ...   \n",
       "495                         0                        0   \n",
       "496                         0                        0   \n",
       "497                         0                        0   \n",
       "498                         0                        0   \n",
       "499                         0                        0   \n",
       "\n",
       "     user description_worker  user description_wrestl  user description_wrong  \\\n",
       "0                          0                        0                       0   \n",
       "1                          0                        0                       0   \n",
       "2                          0                        0                       0   \n",
       "3                          0                        0                       0   \n",
       "4                          0                        0                       0   \n",
       "..                       ...                      ...                     ...   \n",
       "495                        0                        0                       0   \n",
       "496                        0                        0                       0   \n",
       "497                        0                        0                       0   \n",
       "498                        0                        0                       0   \n",
       "499                        0                        0                       0   \n",
       "\n",
       "     user description_yr  user description_zealand  \n",
       "0                      0                         0  \n",
       "1                      0                         0  \n",
       "2                      0                         0  \n",
       "3                      0                         0  \n",
       "4                      0                         0  \n",
       "..                   ...                       ...  \n",
       "495                    0                         0  \n",
       "496                    0                         0  \n",
       "497                    0                         0  \n",
       "498                    0                         0  \n",
       "499                    0                         0  \n",
       "\n",
       "[500 rows x 2013 columns]>"
      ]
     },
     "execution_count": 12,
     "metadata": {},
     "output_type": "execute_result"
    }
   ],
   "source": [
    "ds_test.describe"
   ]
  },
  {
   "cell_type": "code",
   "execution_count": 13,
   "id": "4e2b83cd",
   "metadata": {},
   "outputs": [
    {
     "data": {
      "text/plain": [
       "array(['followers count', 'following count', 'like_count', ...,\n",
       "       'user has url_True', 'user is verified_False',\n",
       "       'user is verified_True'], dtype=object)"
      ]
     },
     "execution_count": 13,
     "metadata": {},
     "output_type": "execute_result"
    }
   ],
   "source": [
    "features = np.setdiff1d(ds_train.columns, np.array([cls]))\n",
    "features"
   ]
  },
  {
   "cell_type": "code",
   "execution_count": 14,
   "id": "8302f731",
   "metadata": {},
   "outputs": [
    {
     "name": "stdout",
     "output_type": "stream",
     "text": [
      "Size of covariance matrix: (2012, 2012)\n",
      "First 5 * 5 of covariance matrix:\n",
      "          0             1             2         3         4\n",
      "0  0.000549  8.559469e-06  9.228882e-06  0.000559  0.000004\n",
      "1  0.000009  4.812368e-04  7.257887e-07  0.000019 -0.000001\n",
      "2  0.000009  7.257887e-07  2.932357e-04  0.000009  0.000045\n",
      "3  0.000559  1.888454e-05  8.739974e-06  0.000822  0.000007\n",
      "4  0.000004 -1.216590e-06  4.548584e-05  0.000007  0.000204\n"
     ]
    }
   ],
   "source": [
    "ds_train_norm_cov = np.cov(ds_train[features], rowvar=False)\n",
    "print(f'Size of covariance matrix: {ds_train_norm_cov.shape}')\n",
    "\n",
    "cov_subset = []\n",
    "for row in range(5):\n",
    "    cov_subset.append(ds_train_norm_cov[row][:5])\n",
    "print('First 5 * 5 of covariance matrix:')\n",
    "print(pd.DataFrame(cov_subset))"
   ]
  },
  {
   "cell_type": "code",
   "execution_count": 15,
   "id": "4befb1c9",
   "metadata": {},
   "outputs": [],
   "source": [
    "from sklearn.decomposition import PCA"
   ]
  },
  {
   "cell_type": "code",
   "execution_count": 45,
   "id": "e398c7e3",
   "metadata": {},
   "outputs": [],
   "source": [
    "X = ds_train.copy()\n",
    "X = X.drop(cls, axis=1)\n",
    "pca = PCA(n_components=2000, random_state=0)\n",
    "pca.fit(X)\n",
    "X_pca = pca.transform(X)"
   ]
  },
  {
   "cell_type": "code",
   "execution_count": 46,
   "id": "a7a2ef61",
   "metadata": {},
   "outputs": [
    {
     "name": "stdout",
     "output_type": "stream",
     "text": [
      "Variance explained by all 2000 principal components = 99.99972607772358\n"
     ]
    }
   ],
   "source": [
    "print(\"Variance explained by all 2000 principal components =\", sum(pca.explained_variance_ratio_ * 100))"
   ]
  },
  {
   "cell_type": "code",
   "execution_count": 47,
   "id": "fd941631",
   "metadata": {},
   "outputs": [
    {
     "data": {
      "text/plain": [
       "array([ 7.89406749,  9.8467856 , 11.21121756, ..., 99.99951014,\n",
       "       99.9996346 , 99.99972608])"
      ]
     },
     "execution_count": 47,
     "metadata": {},
     "output_type": "execute_result"
    }
   ],
   "source": [
    "csum = np.cumsum(pca.explained_variance_ratio_ * 100)\n",
    "np.cumsum(pca.explained_variance_ratio_ * 100)"
   ]
  },
  {
   "cell_type": "code",
   "execution_count": 48,
   "id": "c8be6a8f",
   "metadata": {},
   "outputs": [
    {
     "data": {
      "image/png": "[encoded data removed]",
      "text/plain": [
       "<Figure size 640x480 with 1 Axes>"
      ]
     },
     "metadata": {},
     "output_type": "display_data"
    }
   ],
   "source": [
    "plt.plot(csum)\n",
    "plt.xlabel('Number of components')\n",
    "plt.ylabel('Explained variance')\n",
    "plt.savefig('elbow_plot.png', dpi=100)"
   ]
  },
  {
   "cell_type": "code",
   "execution_count": 61,
   "id": "3209e665",
   "metadata": {},
   "outputs": [
    {
     "data": {
      "text/plain": [
       "96.00818142732594"
      ]
     },
     "execution_count": 61,
     "metadata": {},
     "output_type": "execute_result"
    }
   ],
   "source": [
    "csum[1326]"
   ]
  },
  {
   "cell_type": "code",
   "execution_count": null,
   "id": "353722f0",
   "metadata": {},
   "outputs": [],
   "source": []
  }
 ],
 "metadata": {
  "kernelspec": {
   "display_name": "Python 3 (ipykernel)",
   "language": "python",
   "name": "python3"
  },
  "language_info": {
   "codemirror_mode": {
    "name": "ipython",
    "version": 3
   },
   "file_extension": ".py",
   "mimetype": "text/x-python",
   "name": "python",
   "nbconvert_exporter": "python",
   "pygments_lexer": "ipython3",
   "version": "3.9.12"
  }
 },
 "nbformat": 4,
 "nbformat_minor": 5
}
