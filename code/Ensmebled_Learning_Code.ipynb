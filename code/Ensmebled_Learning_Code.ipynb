{
  "nbformat": 4,
  "nbformat_minor": 0,
  "metadata": {
    "colab": {
      "provenance": []
    },
    "kernelspec": {
      "name": "python3",
      "display_name": "Python 3"
    },
    "language_info": {
      "name": "python"
    }
  },
  "cells": [
    {
      "cell_type": "code",
      "execution_count": 1,
      "metadata": {
        "colab": {
          "base_uri": "https://localhost:8080/"
        },
        "id": "N8zuP0LFOpc2",
        "outputId": "cf683943-5a26-4cd0-8b84-e56509469185"
      },
      "outputs": [
        {
          "output_type": "stream",
          "name": "stderr",
          "text": [
            "[nltk_data] Downloading package stopwords to /root/nltk_data...\n",
            "[nltk_data]   Unzipping corpora/stopwords.zip.\n"
          ]
        },
        {
          "output_type": "execute_result",
          "data": {
            "text/plain": [
              "True"
            ]
          },
          "metadata": {},
          "execution_count": 1
        }
      ],
      "source": [
        "import pandas as pd\n",
        "import nltk\n",
        "import re\n",
        "from nltk.corpus import stopwords\n",
        "import numpy as np\n",
        "from sklearn.metrics import accuracy_score,recall_score, precision_score, f1_score\n",
        "from nltk.stem.porter import PorterStemmer\n",
        "import spacy\n",
        "import os\n",
        "pd.options.mode.chained_assignment = None\n",
        "nltk.download('stopwords')"
      ]
    },
    {
      "cell_type": "code",
      "source": [
        "def filter_text(in_data, field):\n",
        "  data = in_data.copy()\n",
        "  for i in range (0,rows):\n",
        "    oldtext=data[field][i] \n",
        "    newtext=' '.join(re.sub(\"(@[A-Za-z0-9]+)| (_URL_) | (#[A-Za-z0-9]+)|(\\w+:\\/\\/\\S+)\",\" \",str(oldtext)).split()) # removes hashtags, https links, usernames.\n",
        "    newtext= re.sub('[^a-zA-Z0-9]',\" \",str(newtext)) #removes all other characters other than English Alpha-Numeric Characters\n",
        "    newtext=newtext.lower()\n",
        "    newtext=newtext.split()\n",
        "    data[field][i]=newtext\n",
        "  return data"
      ],
      "metadata": {
        "id": "EJ9XFWbWPEEi"
      },
      "execution_count": 2,
      "outputs": []
    },
    {
      "cell_type": "code",
      "source": [
        "def porterstemming(in_data):\n",
        "  data = in_data.copy()\n",
        "  for i in range (0,rows):\n",
        "    ps=PorterStemmer()\n",
        "    oldtext=data[bio_field][i]\n",
        "    newtext= [ps.stem(word) for word in oldtext if word not in set(stopwords.words('english'))]\n",
        "    newtext=' '.join(newtext)\n",
        "    data[bio_field][i]=newtext\n",
        "  return data"
      ],
      "metadata": {
        "id": "xION7rRnPIOT"
      },
      "execution_count": 3,
      "outputs": []
    },
    {
      "cell_type": "code",
      "source": [
        "def lemmatization(in_data):\n",
        "  data = in_data.copy()\n",
        "  spc = spacy.load(\"en_core_web_sm\")\n",
        "  for i in range (0,rows):\n",
        "    oldtext = ' '.join(item for item in data[bio_field][i])\n",
        "    doc = spc(oldtext)\n",
        "    newtext=' '.join([str(token) for token in doc if token not in set(stopwords.words(\"english\"))])\n",
        "    newtext = re.sub(r'\\s+', ' ', newtext)\n",
        "    data[bio_field][i]=newtext\n",
        "  return data"
      ],
      "metadata": {
        "id": "wZVk2qHNPJ_y"
      },
      "execution_count": 4,
      "outputs": []
    },
    {
      "cell_type": "code",
      "source": [
        "def create_corpus_and_y(data):\n",
        "  y=np.array(data[\"class\"])\n",
        "  corpus=[data[bio_field][i] for i in range(len(data)) if len(data)!=0]\n",
        "  return (y,corpus)"
      ],
      "metadata": {
        "id": "OyFytAvFPMoz"
      },
      "execution_count": 5,
      "outputs": []
    },
    {
      "cell_type": "code",
      "source": [
        "def count_vec(corpus):\n",
        "  from sklearn.feature_extraction.text import CountVectorizer\n",
        "  cv = CountVectorizer(max_features = bag_size)\n",
        "  X = cv.fit_transform(corpus).toarray()\n",
        "  return X"
      ],
      "metadata": {
        "id": "vGF-XqMGPOuS"
      },
      "execution_count": 6,
      "outputs": []
    },
    {
      "cell_type": "code",
      "source": [
        "def tf_idf_vec(corpus):\n",
        "  from sklearn.feature_extraction.text import TfidfVectorizer\n",
        "  vectorizer = TfidfVectorizer(max_features=bag_size) # Add min_df, max_df parameters as well\n",
        "  vectorizer.fit(corpus)\n",
        "  X = vectorizer.transform(corpus)\n",
        "  X=X.toarray()\n",
        "  return X"
      ],
      "metadata": {
        "id": "_d_lGLi7PQSx"
      },
      "execution_count": 7,
      "outputs": []
    },
    {
      "cell_type": "code",
      "source": [
        "from sklearn.decomposition import PCA\n",
        "def perform_PCA (X_train, y_train, total_components, n_components):\n",
        "  pca = PCA(n_components=total_components, random_state=0)\n",
        "  pca.fit(X_train)\n",
        "  X_pca = pca.transform(X_train)\n",
        "\n",
        "  print(\"Variance explained by all\", total_components, \"principal components =\", sum(pca.explained_variance_ratio_ * 100))\n",
        "\n",
        "  csum = np.cumsum(pca.explained_variance_ratio_ * 100)\n",
        "  print(csum)\n",
        "  print ()\n",
        "\n",
        "  # plot \n",
        "  import matplotlib.pyplot as plt\n",
        "  plt.plot(csum)\n",
        "  plt.xlabel('Number of components')\n",
        "  plt.ylabel('Explained variance')\n",
        "  #plt.savefig('elbow_plot.png', dpi=100)\n",
        "\n",
        "  # find the number of components\n",
        "  print (csum[n_components-1])\n",
        "\n",
        "  x_train_pca=[x[:n_components] for x in X_pca]\n",
        "\n",
        "  print (len(x_train_pca[0]))\n",
        "  print ()\n",
        "\n",
        "  return x_train_pca"
      ],
      "metadata": {
        "id": "O-fgLoOKPR9w"
      },
      "execution_count": 8,
      "outputs": []
    },
    {
      "cell_type": "code",
      "source": [
        "\n",
        "\n",
        "class Data:\n",
        "    def __init__(self, x_train, y_train, x_test, y_test):\n",
        "        self.x_train = x_train\n",
        "        self.y_train = y_train\n",
        "        self.x_test = x_test\n",
        "        self.y_test = y_test\n",
        "\n",
        "from sklearn.metrics import accuracy_score\n",
        "from sklearn.metrics import precision_score\n",
        "from sklearn.metrics import recall_score\n",
        "from sklearn.metrics import confusion_matrix\n",
        "from sklearn.metrics import f1_score\n",
        "\n",
        "class Result:\n",
        "    def __init__(self, y_test, y_pred, label=None):\n",
        "        self.label = label\n",
        "        self.accuracy = accuracy_score(y_test,y_pred) * 100\n",
        "        self.precision = precision_score(y_test, y_pred, average='binary') * 100\n",
        "        self.recall = recall_score(y_test, y_pred, average='binary') * 100\n",
        "        self.f1 = f1_score(y_test, y_pred, average='binary') * 100\n",
        "        self.confusion_matrix = confusion_matrix(y_test, y_pred)\n",
        "        \n",
        "    def show(self):\n",
        "        print(\"Accuracy = \",self.accuracy,\"%\")\n",
        "        print(\"Precision = \",self.precision)\n",
        "        print(\"Recall = \",self.recall)\n",
        "        print(\"F1 Score = \",self.f1)\n",
        "        print(\"Confusion Matrix: \\n\", self.confusion_matrix)\n",
        "        \n",
        "def getResult(data, res):\n",
        "    result = Result(data.y_test, res)\n",
        "    result.show()\n",
        "    return result\n",
        "\n",
        "from sklearn.model_selection import GridSearchCV\n",
        "from sklearn import metrics\n",
        "from sklearn.metrics import make_scorer\n",
        "\n",
        "def getBestModel(data, model, param_grid, cv=10):\n",
        "    scorer = make_scorer(metrics.f1_score , average='binary')\n",
        "    grid = GridSearchCV(model, \n",
        "                        param_grid,\n",
        "                        cv=cv,\n",
        "                        scoring=scorer)\n",
        "\n",
        "\n",
        "    grid.fit(data.x_train, data.y_train)\n",
        "    \n",
        "    return grid"
      ],
      "metadata": {
        "id": "-NswTEyaPVCS"
      },
      "execution_count": 9,
      "outputs": []
    },
    {
      "cell_type": "code",
      "source": [
        "#Bio"
      ],
      "metadata": {
        "id": "8WWhWd38Pohd"
      },
      "execution_count": 10,
      "outputs": []
    },
    {
      "cell_type": "code",
      "source": [
        "bag_size = 2000\n",
        "bio_file_prefix = 'bio'\n",
        "bio_field = 'user description'"
      ],
      "metadata": {
        "id": "t2DfRk-1P74e"
      },
      "execution_count": 11,
      "outputs": []
    },
    {
      "cell_type": "code",
      "source": [
        "csvname=bio_file_prefix+\".csv\" #changed\n",
        "# csvname=file_prefix+\".csv\" #changed\n",
        "bio_data_orig=pd.read_csv(csvname)\n",
        "bio_data=bio_data_orig.copy()\n",
        "bio_data.drop(bio_data.columns[bio_data.columns.str.contains('unnamed',case = False)],axis = 1, inplace = True)\n",
        "rows=len(bio_data)"
      ],
      "metadata": {
        "id": "KrlPd9_0P-Q7"
      },
      "execution_count": 12,
      "outputs": []
    },
    {
      "cell_type": "code",
      "source": [
        "filtered_bio_data=filter_text(bio_data, bio_field)\n",
        "filtered_bio_data"
      ],
      "metadata": {
        "colab": {
          "base_uri": "https://localhost:8080/",
          "height": 424
        },
        "id": "4WbLE-AwQCJW",
        "outputId": "67f0043a-5447-4780-c432-b99100c3b7cb"
      },
      "execution_count": 13,
      "outputs": [
        {
          "output_type": "execute_result",
          "data": {
            "text/plain": [
              "                                       user description  class\n",
              "0     [mother, of, 4, ex, wife, of, 3, battling, hea...      0\n",
              "1     [wchs, tv, serves, the, charleston, huntington...      0\n",
              "2     [patient, engagement, revenue, cycle, manageme...      0\n",
              "3     [home, of, the, minnesota, and, always, live, ...      0\n",
              "4     [spectrum, news, 1, offers, the, best, 24, hou...      0\n",
              "...                                                 ...    ...\n",
              "5782                                             [none]      1\n",
              "5783                                             [none]      1\n",
              "5784  [hermit, who, loves, to, read, and, has, 4, do...      1\n",
              "5785  [a, well, educated, mind, will, always, have, ...      1\n",
              "5786        [get, hard, and, get, wet, sweat, droplets]      1\n",
              "\n",
              "[5787 rows x 2 columns]"
            ],
            "text/html": [
              "\n",
              "  <div id=\"df-01452509-2090-445f-b0aa-91ab497afaf6\">\n",
              "    <div class=\"colab-df-container\">\n",
              "      <div>\n",
              "<style scoped>\n",
              "    .dataframe tbody tr th:only-of-type {\n",
              "        vertical-align: middle;\n",
              "    }\n",
              "\n",
              "    .dataframe tbody tr th {\n",
              "        vertical-align: top;\n",
              "    }\n",
              "\n",
              "    .dataframe thead th {\n",
              "        text-align: right;\n",
              "    }\n",
              "</style>\n",
              "<table border=\"1\" class=\"dataframe\">\n",
              "  <thead>\n",
              "    <tr style=\"text-align: right;\">\n",
              "      <th></th>\n",
              "      <th>user description</th>\n",
              "      <th>class</th>\n",
              "    </tr>\n",
              "  </thead>\n",
              "  <tbody>\n",
              "    <tr>\n",
              "      <th>0</th>\n",
              "      <td>[mother, of, 4, ex, wife, of, 3, battling, hea...</td>\n",
              "      <td>0</td>\n",
              "    </tr>\n",
              "    <tr>\n",
              "      <th>1</th>\n",
              "      <td>[wchs, tv, serves, the, charleston, huntington...</td>\n",
              "      <td>0</td>\n",
              "    </tr>\n",
              "    <tr>\n",
              "      <th>2</th>\n",
              "      <td>[patient, engagement, revenue, cycle, manageme...</td>\n",
              "      <td>0</td>\n",
              "    </tr>\n",
              "    <tr>\n",
              "      <th>3</th>\n",
              "      <td>[home, of, the, minnesota, and, always, live, ...</td>\n",
              "      <td>0</td>\n",
              "    </tr>\n",
              "    <tr>\n",
              "      <th>4</th>\n",
              "      <td>[spectrum, news, 1, offers, the, best, 24, hou...</td>\n",
              "      <td>0</td>\n",
              "    </tr>\n",
              "    <tr>\n",
              "      <th>...</th>\n",
              "      <td>...</td>\n",
              "      <td>...</td>\n",
              "    </tr>\n",
              "    <tr>\n",
              "      <th>5782</th>\n",
              "      <td>[none]</td>\n",
              "      <td>1</td>\n",
              "    </tr>\n",
              "    <tr>\n",
              "      <th>5783</th>\n",
              "      <td>[none]</td>\n",
              "      <td>1</td>\n",
              "    </tr>\n",
              "    <tr>\n",
              "      <th>5784</th>\n",
              "      <td>[hermit, who, loves, to, read, and, has, 4, do...</td>\n",
              "      <td>1</td>\n",
              "    </tr>\n",
              "    <tr>\n",
              "      <th>5785</th>\n",
              "      <td>[a, well, educated, mind, will, always, have, ...</td>\n",
              "      <td>1</td>\n",
              "    </tr>\n",
              "    <tr>\n",
              "      <th>5786</th>\n",
              "      <td>[get, hard, and, get, wet, sweat, droplets]</td>\n",
              "      <td>1</td>\n",
              "    </tr>\n",
              "  </tbody>\n",
              "</table>\n",
              "<p>5787 rows × 2 columns</p>\n",
              "</div>\n",
              "      <button class=\"colab-df-convert\" onclick=\"convertToInteractive('df-01452509-2090-445f-b0aa-91ab497afaf6')\"\n",
              "              title=\"Convert this dataframe to an interactive table.\"\n",
              "              style=\"display:none;\">\n",
              "        \n",
              "  <svg xmlns=\"http://www.w3.org/2000/svg\" height=\"24px\"viewBox=\"0 0 24 24\"\n",
              "       width=\"24px\">\n",
              "    <path d=\"M0 0h24v24H0V0z\" fill=\"none\"/>\n",
              "    <path d=\"M18.56 5.44l.94 2.06.94-2.06 2.06-.94-2.06-.94-.94-2.06-.94 2.06-2.06.94zm-11 1L8.5 8.5l.94-2.06 2.06-.94-2.06-.94L8.5 2.5l-.94 2.06-2.06.94zm10 10l.94 2.06.94-2.06 2.06-.94-2.06-.94-.94-2.06-.94 2.06-2.06.94z\"/><path d=\"M17.41 7.96l-1.37-1.37c-.4-.4-.92-.59-1.43-.59-.52 0-1.04.2-1.43.59L10.3 9.45l-7.72 7.72c-.78.78-.78 2.05 0 2.83L4 21.41c.39.39.9.59 1.41.59.51 0 1.02-.2 1.41-.59l7.78-7.78 2.81-2.81c.8-.78.8-2.07 0-2.86zM5.41 20L4 18.59l7.72-7.72 1.47 1.35L5.41 20z\"/>\n",
              "  </svg>\n",
              "      </button>\n",
              "      \n",
              "  <style>\n",
              "    .colab-df-container {\n",
              "      display:flex;\n",
              "      flex-wrap:wrap;\n",
              "      gap: 12px;\n",
              "    }\n",
              "\n",
              "    .colab-df-convert {\n",
              "      background-color: #E8F0FE;\n",
              "      border: none;\n",
              "      border-radius: 50%;\n",
              "      cursor: pointer;\n",
              "      display: none;\n",
              "      fill: #1967D2;\n",
              "      height: 32px;\n",
              "      padding: 0 0 0 0;\n",
              "      width: 32px;\n",
              "    }\n",
              "\n",
              "    .colab-df-convert:hover {\n",
              "      background-color: #E2EBFA;\n",
              "      box-shadow: 0px 1px 2px rgba(60, 64, 67, 0.3), 0px 1px 3px 1px rgba(60, 64, 67, 0.15);\n",
              "      fill: #174EA6;\n",
              "    }\n",
              "\n",
              "    [theme=dark] .colab-df-convert {\n",
              "      background-color: #3B4455;\n",
              "      fill: #D2E3FC;\n",
              "    }\n",
              "\n",
              "    [theme=dark] .colab-df-convert:hover {\n",
              "      background-color: #434B5C;\n",
              "      box-shadow: 0px 1px 3px 1px rgba(0, 0, 0, 0.15);\n",
              "      filter: drop-shadow(0px 1px 2px rgba(0, 0, 0, 0.3));\n",
              "      fill: #FFFFFF;\n",
              "    }\n",
              "  </style>\n",
              "\n",
              "      <script>\n",
              "        const buttonEl =\n",
              "          document.querySelector('#df-01452509-2090-445f-b0aa-91ab497afaf6 button.colab-df-convert');\n",
              "        buttonEl.style.display =\n",
              "          google.colab.kernel.accessAllowed ? 'block' : 'none';\n",
              "\n",
              "        async function convertToInteractive(key) {\n",
              "          const element = document.querySelector('#df-01452509-2090-445f-b0aa-91ab497afaf6');\n",
              "          const dataTable =\n",
              "            await google.colab.kernel.invokeFunction('convertToInteractive',\n",
              "                                                     [key], {});\n",
              "          if (!dataTable) return;\n",
              "\n",
              "          const docLinkHtml = 'Like what you see? Visit the ' +\n",
              "            '<a target=\"_blank\" href=https://colab.research.google.com/notebooks/data_table.ipynb>data table notebook</a>'\n",
              "            + ' to learn more about interactive tables.';\n",
              "          element.innerHTML = '';\n",
              "          dataTable['output_type'] = 'display_data';\n",
              "          await google.colab.output.renderOutput(dataTable, element);\n",
              "          const docLink = document.createElement('div');\n",
              "          docLink.innerHTML = docLinkHtml;\n",
              "          element.appendChild(docLink);\n",
              "        }\n",
              "      </script>\n",
              "    </div>\n",
              "  </div>\n",
              "  "
            ]
          },
          "metadata": {},
          "execution_count": 13
        }
      ]
    },
    {
      "cell_type": "code",
      "source": [
        "portered_stemmed_data=porterstemming(filtered_bio_data)\n",
        "portered_stemmed_data"
      ],
      "metadata": {
        "colab": {
          "base_uri": "https://localhost:8080/",
          "height": 424
        },
        "id": "W_rCdX3qQHwd",
        "outputId": "336b4aad-404a-4e39-8c9d-4138fdbd8469"
      },
      "execution_count": 14,
      "outputs": [
        {
          "output_type": "execute_result",
          "data": {
            "text/plain": [
              "                                       user description  class\n",
              "0     mother 4 ex wife 3 battl health inequ misinfor...      0\n",
              "1     wch tv serv charleston huntington market lates...      0\n",
              "2     patient engag revenu cycl manag healthcar thou...      0\n",
              "3                    home minnesota alway live free app      0\n",
              "4     spectrum news 1 offer best 24 hour local news ...      0\n",
              "...                                                 ...    ...\n",
              "5782                                               none      1\n",
              "5783                                               none      1\n",
              "5784                  hermit love read 4 dog like peopl      1\n",
              "5785  well educ mind alway question answer helen keller      1\n",
              "5786                     get hard get wet sweat droplet      1\n",
              "\n",
              "[5787 rows x 2 columns]"
            ],
            "text/html": [
              "\n",
              "  <div id=\"df-6c0bd17e-d3d8-4aa1-b724-abd4ceb0355e\">\n",
              "    <div class=\"colab-df-container\">\n",
              "      <div>\n",
              "<style scoped>\n",
              "    .dataframe tbody tr th:only-of-type {\n",
              "        vertical-align: middle;\n",
              "    }\n",
              "\n",
              "    .dataframe tbody tr th {\n",
              "        vertical-align: top;\n",
              "    }\n",
              "\n",
              "    .dataframe thead th {\n",
              "        text-align: right;\n",
              "    }\n",
              "</style>\n",
              "<table border=\"1\" class=\"dataframe\">\n",
              "  <thead>\n",
              "    <tr style=\"text-align: right;\">\n",
              "      <th></th>\n",
              "      <th>user description</th>\n",
              "      <th>class</th>\n",
              "    </tr>\n",
              "  </thead>\n",
              "  <tbody>\n",
              "    <tr>\n",
              "      <th>0</th>\n",
              "      <td>mother 4 ex wife 3 battl health inequ misinfor...</td>\n",
              "      <td>0</td>\n",
              "    </tr>\n",
              "    <tr>\n",
              "      <th>1</th>\n",
              "      <td>wch tv serv charleston huntington market lates...</td>\n",
              "      <td>0</td>\n",
              "    </tr>\n",
              "    <tr>\n",
              "      <th>2</th>\n",
              "      <td>patient engag revenu cycl manag healthcar thou...</td>\n",
              "      <td>0</td>\n",
              "    </tr>\n",
              "    <tr>\n",
              "      <th>3</th>\n",
              "      <td>home minnesota alway live free app</td>\n",
              "      <td>0</td>\n",
              "    </tr>\n",
              "    <tr>\n",
              "      <th>4</th>\n",
              "      <td>spectrum news 1 offer best 24 hour local news ...</td>\n",
              "      <td>0</td>\n",
              "    </tr>\n",
              "    <tr>\n",
              "      <th>...</th>\n",
              "      <td>...</td>\n",
              "      <td>...</td>\n",
              "    </tr>\n",
              "    <tr>\n",
              "      <th>5782</th>\n",
              "      <td>none</td>\n",
              "      <td>1</td>\n",
              "    </tr>\n",
              "    <tr>\n",
              "      <th>5783</th>\n",
              "      <td>none</td>\n",
              "      <td>1</td>\n",
              "    </tr>\n",
              "    <tr>\n",
              "      <th>5784</th>\n",
              "      <td>hermit love read 4 dog like peopl</td>\n",
              "      <td>1</td>\n",
              "    </tr>\n",
              "    <tr>\n",
              "      <th>5785</th>\n",
              "      <td>well educ mind alway question answer helen keller</td>\n",
              "      <td>1</td>\n",
              "    </tr>\n",
              "    <tr>\n",
              "      <th>5786</th>\n",
              "      <td>get hard get wet sweat droplet</td>\n",
              "      <td>1</td>\n",
              "    </tr>\n",
              "  </tbody>\n",
              "</table>\n",
              "<p>5787 rows × 2 columns</p>\n",
              "</div>\n",
              "      <button class=\"colab-df-convert\" onclick=\"convertToInteractive('df-6c0bd17e-d3d8-4aa1-b724-abd4ceb0355e')\"\n",
              "              title=\"Convert this dataframe to an interactive table.\"\n",
              "              style=\"display:none;\">\n",
              "        \n",
              "  <svg xmlns=\"http://www.w3.org/2000/svg\" height=\"24px\"viewBox=\"0 0 24 24\"\n",
              "       width=\"24px\">\n",
              "    <path d=\"M0 0h24v24H0V0z\" fill=\"none\"/>\n",
              "    <path d=\"M18.56 5.44l.94 2.06.94-2.06 2.06-.94-2.06-.94-.94-2.06-.94 2.06-2.06.94zm-11 1L8.5 8.5l.94-2.06 2.06-.94-2.06-.94L8.5 2.5l-.94 2.06-2.06.94zm10 10l.94 2.06.94-2.06 2.06-.94-2.06-.94-.94-2.06-.94 2.06-2.06.94z\"/><path d=\"M17.41 7.96l-1.37-1.37c-.4-.4-.92-.59-1.43-.59-.52 0-1.04.2-1.43.59L10.3 9.45l-7.72 7.72c-.78.78-.78 2.05 0 2.83L4 21.41c.39.39.9.59 1.41.59.51 0 1.02-.2 1.41-.59l7.78-7.78 2.81-2.81c.8-.78.8-2.07 0-2.86zM5.41 20L4 18.59l7.72-7.72 1.47 1.35L5.41 20z\"/>\n",
              "  </svg>\n",
              "      </button>\n",
              "      \n",
              "  <style>\n",
              "    .colab-df-container {\n",
              "      display:flex;\n",
              "      flex-wrap:wrap;\n",
              "      gap: 12px;\n",
              "    }\n",
              "\n",
              "    .colab-df-convert {\n",
              "      background-color: #E8F0FE;\n",
              "      border: none;\n",
              "      border-radius: 50%;\n",
              "      cursor: pointer;\n",
              "      display: none;\n",
              "      fill: #1967D2;\n",
              "      height: 32px;\n",
              "      padding: 0 0 0 0;\n",
              "      width: 32px;\n",
              "    }\n",
              "\n",
              "    .colab-df-convert:hover {\n",
              "      background-color: #E2EBFA;\n",
              "      box-shadow: 0px 1px 2px rgba(60, 64, 67, 0.3), 0px 1px 3px 1px rgba(60, 64, 67, 0.15);\n",
              "      fill: #174EA6;\n",
              "    }\n",
              "\n",
              "    [theme=dark] .colab-df-convert {\n",
              "      background-color: #3B4455;\n",
              "      fill: #D2E3FC;\n",
              "    }\n",
              "\n",
              "    [theme=dark] .colab-df-convert:hover {\n",
              "      background-color: #434B5C;\n",
              "      box-shadow: 0px 1px 3px 1px rgba(0, 0, 0, 0.15);\n",
              "      filter: drop-shadow(0px 1px 2px rgba(0, 0, 0, 0.3));\n",
              "      fill: #FFFFFF;\n",
              "    }\n",
              "  </style>\n",
              "\n",
              "      <script>\n",
              "        const buttonEl =\n",
              "          document.querySelector('#df-6c0bd17e-d3d8-4aa1-b724-abd4ceb0355e button.colab-df-convert');\n",
              "        buttonEl.style.display =\n",
              "          google.colab.kernel.accessAllowed ? 'block' : 'none';\n",
              "\n",
              "        async function convertToInteractive(key) {\n",
              "          const element = document.querySelector('#df-6c0bd17e-d3d8-4aa1-b724-abd4ceb0355e');\n",
              "          const dataTable =\n",
              "            await google.colab.kernel.invokeFunction('convertToInteractive',\n",
              "                                                     [key], {});\n",
              "          if (!dataTable) return;\n",
              "\n",
              "          const docLinkHtml = 'Like what you see? Visit the ' +\n",
              "            '<a target=\"_blank\" href=https://colab.research.google.com/notebooks/data_table.ipynb>data table notebook</a>'\n",
              "            + ' to learn more about interactive tables.';\n",
              "          element.innerHTML = '';\n",
              "          dataTable['output_type'] = 'display_data';\n",
              "          await google.colab.output.renderOutput(dataTable, element);\n",
              "          const docLink = document.createElement('div');\n",
              "          docLink.innerHTML = docLinkHtml;\n",
              "          element.appendChild(docLink);\n",
              "        }\n",
              "      </script>\n",
              "    </div>\n",
              "  </div>\n",
              "  "
            ]
          },
          "metadata": {},
          "execution_count": 14
        }
      ]
    },
    {
      "cell_type": "code",
      "source": [
        "y_portered,portered_corpus=create_corpus_and_y(portered_stemmed_data)\n"
      ],
      "metadata": {
        "id": "zFfAhE3cQJcj"
      },
      "execution_count": 15,
      "outputs": []
    },
    {
      "cell_type": "code",
      "source": [
        "X_portered_TF_IDF=tf_idf_vec(portered_corpus)\n"
      ],
      "metadata": {
        "id": "BewHptCxQ7Bb"
      },
      "execution_count": 16,
      "outputs": []
    },
    {
      "cell_type": "code",
      "source": [
        "df_portered_TF_IDF = pd.DataFrame(X_portered_TF_IDF)\n",
        "df_portered_TF_IDF['class'] = y_portered\n",
        "df_portered_TF_IDF"
      ],
      "metadata": {
        "colab": {
          "base_uri": "https://localhost:8080/",
          "height": 424
        },
        "id": "F8OLAEV3Q9YS",
        "outputId": "a77babb2-5486-439e-dabf-6c7386050136"
      },
      "execution_count": 17,
      "outputs": [
        {
          "output_type": "execute_result",
          "data": {
            "text/plain": [
              "        0    1    2    3    4    5    6    7    8    9  ...  1991  1992  1993  \\\n",
              "0     0.0  0.0  0.0  0.0  0.0  0.0  0.0  0.0  0.0  0.0  ...   0.0   0.0   0.0   \n",
              "1     0.0  0.0  0.0  0.0  0.0  0.0  0.0  0.0  0.0  0.0  ...   0.0   0.0   0.0   \n",
              "2     0.0  0.0  0.0  0.0  0.0  0.0  0.0  0.0  0.0  0.0  ...   0.0   0.0   0.0   \n",
              "3     0.0  0.0  0.0  0.0  0.0  0.0  0.0  0.0  0.0  0.0  ...   0.0   0.0   0.0   \n",
              "4     0.0  0.0  0.0  0.0  0.0  0.0  0.0  0.0  0.0  0.0  ...   0.0   0.0   0.0   \n",
              "...   ...  ...  ...  ...  ...  ...  ...  ...  ...  ...  ...   ...   ...   ...   \n",
              "5782  0.0  0.0  0.0  0.0  0.0  0.0  0.0  0.0  0.0  0.0  ...   0.0   0.0   0.0   \n",
              "5783  0.0  0.0  0.0  0.0  0.0  0.0  0.0  0.0  0.0  0.0  ...   0.0   0.0   0.0   \n",
              "5784  0.0  0.0  0.0  0.0  0.0  0.0  0.0  0.0  0.0  0.0  ...   0.0   0.0   0.0   \n",
              "5785  0.0  0.0  0.0  0.0  0.0  0.0  0.0  0.0  0.0  0.0  ...   0.0   0.0   0.0   \n",
              "5786  0.0  0.0  0.0  0.0  0.0  0.0  0.0  0.0  0.0  0.0  ...   0.0   0.0   0.0   \n",
              "\n",
              "      1994  1995  1996  1997  1998  1999  class  \n",
              "0      0.0   0.0   0.0   0.0   0.0   0.0      0  \n",
              "1      0.0   0.0   0.0   0.0   0.0   0.0      0  \n",
              "2      0.0   0.0   0.0   0.0   0.0   0.0      0  \n",
              "3      0.0   0.0   0.0   0.0   0.0   0.0      0  \n",
              "4      0.0   0.0   0.0   0.0   0.0   0.0      0  \n",
              "...    ...   ...   ...   ...   ...   ...    ...  \n",
              "5782   0.0   0.0   0.0   0.0   0.0   0.0      1  \n",
              "5783   0.0   0.0   0.0   0.0   0.0   0.0      1  \n",
              "5784   0.0   0.0   0.0   0.0   0.0   0.0      1  \n",
              "5785   0.0   0.0   0.0   0.0   0.0   0.0      1  \n",
              "5786   0.0   0.0   0.0   0.0   0.0   0.0      1  \n",
              "\n",
              "[5787 rows x 2001 columns]"
            ],
            "text/html": [
              "\n",
              "  <div id=\"df-d04dbdbe-c39e-4bc0-ba5e-2b8b24a5e340\">\n",
              "    <div class=\"colab-df-container\">\n",
              "      <div>\n",
              "<style scoped>\n",
              "    .dataframe tbody tr th:only-of-type {\n",
              "        vertical-align: middle;\n",
              "    }\n",
              "\n",
              "    .dataframe tbody tr th {\n",
              "        vertical-align: top;\n",
              "    }\n",
              "\n",
              "    .dataframe thead th {\n",
              "        text-align: right;\n",
              "    }\n",
              "</style>\n",
              "<table border=\"1\" class=\"dataframe\">\n",
              "  <thead>\n",
              "    <tr style=\"text-align: right;\">\n",
              "      <th></th>\n",
              "      <th>0</th>\n",
              "      <th>1</th>\n",
              "      <th>2</th>\n",
              "      <th>3</th>\n",
              "      <th>4</th>\n",
              "      <th>5</th>\n",
              "      <th>6</th>\n",
              "      <th>7</th>\n",
              "      <th>8</th>\n",
              "      <th>9</th>\n",
              "      <th>...</th>\n",
              "      <th>1991</th>\n",
              "      <th>1992</th>\n",
              "      <th>1993</th>\n",
              "      <th>1994</th>\n",
              "      <th>1995</th>\n",
              "      <th>1996</th>\n",
              "      <th>1997</th>\n",
              "      <th>1998</th>\n",
              "      <th>1999</th>\n",
              "      <th>class</th>\n",
              "    </tr>\n",
              "  </thead>\n",
              "  <tbody>\n",
              "    <tr>\n",
              "      <th>0</th>\n",
              "      <td>0.0</td>\n",
              "      <td>0.0</td>\n",
              "      <td>0.0</td>\n",
              "      <td>0.0</td>\n",
              "      <td>0.0</td>\n",
              "      <td>0.0</td>\n",
              "      <td>0.0</td>\n",
              "      <td>0.0</td>\n",
              "      <td>0.0</td>\n",
              "      <td>0.0</td>\n",
              "      <td>...</td>\n",
              "      <td>0.0</td>\n",
              "      <td>0.0</td>\n",
              "      <td>0.0</td>\n",
              "      <td>0.0</td>\n",
              "      <td>0.0</td>\n",
              "      <td>0.0</td>\n",
              "      <td>0.0</td>\n",
              "      <td>0.0</td>\n",
              "      <td>0.0</td>\n",
              "      <td>0</td>\n",
              "    </tr>\n",
              "    <tr>\n",
              "      <th>1</th>\n",
              "      <td>0.0</td>\n",
              "      <td>0.0</td>\n",
              "      <td>0.0</td>\n",
              "      <td>0.0</td>\n",
              "      <td>0.0</td>\n",
              "      <td>0.0</td>\n",
              "      <td>0.0</td>\n",
              "      <td>0.0</td>\n",
              "      <td>0.0</td>\n",
              "      <td>0.0</td>\n",
              "      <td>...</td>\n",
              "      <td>0.0</td>\n",
              "      <td>0.0</td>\n",
              "      <td>0.0</td>\n",
              "      <td>0.0</td>\n",
              "      <td>0.0</td>\n",
              "      <td>0.0</td>\n",
              "      <td>0.0</td>\n",
              "      <td>0.0</td>\n",
              "      <td>0.0</td>\n",
              "      <td>0</td>\n",
              "    </tr>\n",
              "    <tr>\n",
              "      <th>2</th>\n",
              "      <td>0.0</td>\n",
              "      <td>0.0</td>\n",
              "      <td>0.0</td>\n",
              "      <td>0.0</td>\n",
              "      <td>0.0</td>\n",
              "      <td>0.0</td>\n",
              "      <td>0.0</td>\n",
              "      <td>0.0</td>\n",
              "      <td>0.0</td>\n",
              "      <td>0.0</td>\n",
              "      <td>...</td>\n",
              "      <td>0.0</td>\n",
              "      <td>0.0</td>\n",
              "      <td>0.0</td>\n",
              "      <td>0.0</td>\n",
              "      <td>0.0</td>\n",
              "      <td>0.0</td>\n",
              "      <td>0.0</td>\n",
              "      <td>0.0</td>\n",
              "      <td>0.0</td>\n",
              "      <td>0</td>\n",
              "    </tr>\n",
              "    <tr>\n",
              "      <th>3</th>\n",
              "      <td>0.0</td>\n",
              "      <td>0.0</td>\n",
              "      <td>0.0</td>\n",
              "      <td>0.0</td>\n",
              "      <td>0.0</td>\n",
              "      <td>0.0</td>\n",
              "      <td>0.0</td>\n",
              "      <td>0.0</td>\n",
              "      <td>0.0</td>\n",
              "      <td>0.0</td>\n",
              "      <td>...</td>\n",
              "      <td>0.0</td>\n",
              "      <td>0.0</td>\n",
              "      <td>0.0</td>\n",
              "      <td>0.0</td>\n",
              "      <td>0.0</td>\n",
              "      <td>0.0</td>\n",
              "      <td>0.0</td>\n",
              "      <td>0.0</td>\n",
              "      <td>0.0</td>\n",
              "      <td>0</td>\n",
              "    </tr>\n",
              "    <tr>\n",
              "      <th>4</th>\n",
              "      <td>0.0</td>\n",
              "      <td>0.0</td>\n",
              "      <td>0.0</td>\n",
              "      <td>0.0</td>\n",
              "      <td>0.0</td>\n",
              "      <td>0.0</td>\n",
              "      <td>0.0</td>\n",
              "      <td>0.0</td>\n",
              "      <td>0.0</td>\n",
              "      <td>0.0</td>\n",
              "      <td>...</td>\n",
              "      <td>0.0</td>\n",
              "      <td>0.0</td>\n",
              "      <td>0.0</td>\n",
              "      <td>0.0</td>\n",
              "      <td>0.0</td>\n",
              "      <td>0.0</td>\n",
              "      <td>0.0</td>\n",
              "      <td>0.0</td>\n",
              "      <td>0.0</td>\n",
              "      <td>0</td>\n",
              "    </tr>\n",
              "    <tr>\n",
              "      <th>...</th>\n",
              "      <td>...</td>\n",
              "      <td>...</td>\n",
              "      <td>...</td>\n",
              "      <td>...</td>\n",
              "      <td>...</td>\n",
              "      <td>...</td>\n",
              "      <td>...</td>\n",
              "      <td>...</td>\n",
              "      <td>...</td>\n",
              "      <td>...</td>\n",
              "      <td>...</td>\n",
              "      <td>...</td>\n",
              "      <td>...</td>\n",
              "      <td>...</td>\n",
              "      <td>...</td>\n",
              "      <td>...</td>\n",
              "      <td>...</td>\n",
              "      <td>...</td>\n",
              "      <td>...</td>\n",
              "      <td>...</td>\n",
              "      <td>...</td>\n",
              "    </tr>\n",
              "    <tr>\n",
              "      <th>5782</th>\n",
              "      <td>0.0</td>\n",
              "      <td>0.0</td>\n",
              "      <td>0.0</td>\n",
              "      <td>0.0</td>\n",
              "      <td>0.0</td>\n",
              "      <td>0.0</td>\n",
              "      <td>0.0</td>\n",
              "      <td>0.0</td>\n",
              "      <td>0.0</td>\n",
              "      <td>0.0</td>\n",
              "      <td>...</td>\n",
              "      <td>0.0</td>\n",
              "      <td>0.0</td>\n",
              "      <td>0.0</td>\n",
              "      <td>0.0</td>\n",
              "      <td>0.0</td>\n",
              "      <td>0.0</td>\n",
              "      <td>0.0</td>\n",
              "      <td>0.0</td>\n",
              "      <td>0.0</td>\n",
              "      <td>1</td>\n",
              "    </tr>\n",
              "    <tr>\n",
              "      <th>5783</th>\n",
              "      <td>0.0</td>\n",
              "      <td>0.0</td>\n",
              "      <td>0.0</td>\n",
              "      <td>0.0</td>\n",
              "      <td>0.0</td>\n",
              "      <td>0.0</td>\n",
              "      <td>0.0</td>\n",
              "      <td>0.0</td>\n",
              "      <td>0.0</td>\n",
              "      <td>0.0</td>\n",
              "      <td>...</td>\n",
              "      <td>0.0</td>\n",
              "      <td>0.0</td>\n",
              "      <td>0.0</td>\n",
              "      <td>0.0</td>\n",
              "      <td>0.0</td>\n",
              "      <td>0.0</td>\n",
              "      <td>0.0</td>\n",
              "      <td>0.0</td>\n",
              "      <td>0.0</td>\n",
              "      <td>1</td>\n",
              "    </tr>\n",
              "    <tr>\n",
              "      <th>5784</th>\n",
              "      <td>0.0</td>\n",
              "      <td>0.0</td>\n",
              "      <td>0.0</td>\n",
              "      <td>0.0</td>\n",
              "      <td>0.0</td>\n",
              "      <td>0.0</td>\n",
              "      <td>0.0</td>\n",
              "      <td>0.0</td>\n",
              "      <td>0.0</td>\n",
              "      <td>0.0</td>\n",
              "      <td>...</td>\n",
              "      <td>0.0</td>\n",
              "      <td>0.0</td>\n",
              "      <td>0.0</td>\n",
              "      <td>0.0</td>\n",
              "      <td>0.0</td>\n",
              "      <td>0.0</td>\n",
              "      <td>0.0</td>\n",
              "      <td>0.0</td>\n",
              "      <td>0.0</td>\n",
              "      <td>1</td>\n",
              "    </tr>\n",
              "    <tr>\n",
              "      <th>5785</th>\n",
              "      <td>0.0</td>\n",
              "      <td>0.0</td>\n",
              "      <td>0.0</td>\n",
              "      <td>0.0</td>\n",
              "      <td>0.0</td>\n",
              "      <td>0.0</td>\n",
              "      <td>0.0</td>\n",
              "      <td>0.0</td>\n",
              "      <td>0.0</td>\n",
              "      <td>0.0</td>\n",
              "      <td>...</td>\n",
              "      <td>0.0</td>\n",
              "      <td>0.0</td>\n",
              "      <td>0.0</td>\n",
              "      <td>0.0</td>\n",
              "      <td>0.0</td>\n",
              "      <td>0.0</td>\n",
              "      <td>0.0</td>\n",
              "      <td>0.0</td>\n",
              "      <td>0.0</td>\n",
              "      <td>1</td>\n",
              "    </tr>\n",
              "    <tr>\n",
              "      <th>5786</th>\n",
              "      <td>0.0</td>\n",
              "      <td>0.0</td>\n",
              "      <td>0.0</td>\n",
              "      <td>0.0</td>\n",
              "      <td>0.0</td>\n",
              "      <td>0.0</td>\n",
              "      <td>0.0</td>\n",
              "      <td>0.0</td>\n",
              "      <td>0.0</td>\n",
              "      <td>0.0</td>\n",
              "      <td>...</td>\n",
              "      <td>0.0</td>\n",
              "      <td>0.0</td>\n",
              "      <td>0.0</td>\n",
              "      <td>0.0</td>\n",
              "      <td>0.0</td>\n",
              "      <td>0.0</td>\n",
              "      <td>0.0</td>\n",
              "      <td>0.0</td>\n",
              "      <td>0.0</td>\n",
              "      <td>1</td>\n",
              "    </tr>\n",
              "  </tbody>\n",
              "</table>\n",
              "<p>5787 rows × 2001 columns</p>\n",
              "</div>\n",
              "      <button class=\"colab-df-convert\" onclick=\"convertToInteractive('df-d04dbdbe-c39e-4bc0-ba5e-2b8b24a5e340')\"\n",
              "              title=\"Convert this dataframe to an interactive table.\"\n",
              "              style=\"display:none;\">\n",
              "        \n",
              "  <svg xmlns=\"http://www.w3.org/2000/svg\" height=\"24px\"viewBox=\"0 0 24 24\"\n",
              "       width=\"24px\">\n",
              "    <path d=\"M0 0h24v24H0V0z\" fill=\"none\"/>\n",
              "    <path d=\"M18.56 5.44l.94 2.06.94-2.06 2.06-.94-2.06-.94-.94-2.06-.94 2.06-2.06.94zm-11 1L8.5 8.5l.94-2.06 2.06-.94-2.06-.94L8.5 2.5l-.94 2.06-2.06.94zm10 10l.94 2.06.94-2.06 2.06-.94-2.06-.94-.94-2.06-.94 2.06-2.06.94z\"/><path d=\"M17.41 7.96l-1.37-1.37c-.4-.4-.92-.59-1.43-.59-.52 0-1.04.2-1.43.59L10.3 9.45l-7.72 7.72c-.78.78-.78 2.05 0 2.83L4 21.41c.39.39.9.59 1.41.59.51 0 1.02-.2 1.41-.59l7.78-7.78 2.81-2.81c.8-.78.8-2.07 0-2.86zM5.41 20L4 18.59l7.72-7.72 1.47 1.35L5.41 20z\"/>\n",
              "  </svg>\n",
              "      </button>\n",
              "      \n",
              "  <style>\n",
              "    .colab-df-container {\n",
              "      display:flex;\n",
              "      flex-wrap:wrap;\n",
              "      gap: 12px;\n",
              "    }\n",
              "\n",
              "    .colab-df-convert {\n",
              "      background-color: #E8F0FE;\n",
              "      border: none;\n",
              "      border-radius: 50%;\n",
              "      cursor: pointer;\n",
              "      display: none;\n",
              "      fill: #1967D2;\n",
              "      height: 32px;\n",
              "      padding: 0 0 0 0;\n",
              "      width: 32px;\n",
              "    }\n",
              "\n",
              "    .colab-df-convert:hover {\n",
              "      background-color: #E2EBFA;\n",
              "      box-shadow: 0px 1px 2px rgba(60, 64, 67, 0.3), 0px 1px 3px 1px rgba(60, 64, 67, 0.15);\n",
              "      fill: #174EA6;\n",
              "    }\n",
              "\n",
              "    [theme=dark] .colab-df-convert {\n",
              "      background-color: #3B4455;\n",
              "      fill: #D2E3FC;\n",
              "    }\n",
              "\n",
              "    [theme=dark] .colab-df-convert:hover {\n",
              "      background-color: #434B5C;\n",
              "      box-shadow: 0px 1px 3px 1px rgba(0, 0, 0, 0.15);\n",
              "      filter: drop-shadow(0px 1px 2px rgba(0, 0, 0, 0.3));\n",
              "      fill: #FFFFFF;\n",
              "    }\n",
              "  </style>\n",
              "\n",
              "      <script>\n",
              "        const buttonEl =\n",
              "          document.querySelector('#df-d04dbdbe-c39e-4bc0-ba5e-2b8b24a5e340 button.colab-df-convert');\n",
              "        buttonEl.style.display =\n",
              "          google.colab.kernel.accessAllowed ? 'block' : 'none';\n",
              "\n",
              "        async function convertToInteractive(key) {\n",
              "          const element = document.querySelector('#df-d04dbdbe-c39e-4bc0-ba5e-2b8b24a5e340');\n",
              "          const dataTable =\n",
              "            await google.colab.kernel.invokeFunction('convertToInteractive',\n",
              "                                                     [key], {});\n",
              "          if (!dataTable) return;\n",
              "\n",
              "          const docLinkHtml = 'Like what you see? Visit the ' +\n",
              "            '<a target=\"_blank\" href=https://colab.research.google.com/notebooks/data_table.ipynb>data table notebook</a>'\n",
              "            + ' to learn more about interactive tables.';\n",
              "          element.innerHTML = '';\n",
              "          dataTable['output_type'] = 'display_data';\n",
              "          await google.colab.output.renderOutput(dataTable, element);\n",
              "          const docLink = document.createElement('div');\n",
              "          docLink.innerHTML = docLinkHtml;\n",
              "          element.appendChild(docLink);\n",
              "        }\n",
              "      </script>\n",
              "    </div>\n",
              "  </div>\n",
              "  "
            ]
          },
          "metadata": {},
          "execution_count": 17
        }
      ]
    },
    {
      "cell_type": "code",
      "source": [
        "# def split_data_train_test_split(X,y):\n",
        "#  from sklearn.model_selection import train_test_split\n",
        "#  X_train, X_test, y_train, y_test = train_test_split(X, y, test_size = 0.2, random_state = 0)\n",
        "#  return(X_train, X_test,y_train,y_test)\n",
        "\n",
        "import math\n",
        "from sklearn.model_selection import train_test_split\n",
        "\n",
        "def split_data_train_test_split(X,y):\n",
        "    X_class = {\n",
        "        0: [],\n",
        "        1: []}\n",
        "    for i in range(len(y)):\n",
        "        X_class[y[i]].append(X[i])\n",
        "    X_0_candidate = X_class[0][:len(X_class[1])]\n",
        "    X_0_add = X_class[0][len(X_class[1]):]\n",
        "    \n",
        "    X_candidate = np.concatenate((X_0_candidate, X_class[1]))\n",
        "    \n",
        "    y_candidate = np.array([0 for i in range(len(X_0_candidate))])\n",
        "    y_candidate = np.concatenate((y_candidate,np.array([1 for i in range(len(X_0_candidate))])))\n",
        "\n",
        "    y_0_add = np.array([0 for i in range(len(X_0_add))])\n",
        "    \n",
        "    \n",
        "    X_train, X_test, y_train, y_test = train_test_split(X_candidate, y_candidate, test_size = 0.2, random_state = 0)\n",
        "\n",
        "#     X_test = np.concatenate((X_test, X_0_add))\n",
        "#     y_test = np.concatenate((y_test, y_0_add))\n",
        "    \n",
        "    return(X_train, X_test,y_train,y_test)"
      ],
      "metadata": {
        "id": "0kN78DNfRpLR"
      },
      "execution_count": 18,
      "outputs": []
    },
    {
      "cell_type": "code",
      "source": [
        "# PCA on portered data\n",
        "y = df_portered_TF_IDF['class']\n",
        "X_portered_tf = df_portered_TF_IDF.copy()\n",
        "X_portered_tf.drop ('class', axis=1, inplace=True)\n"
      ],
      "metadata": {
        "id": "HIxRTAyaRuNH"
      },
      "execution_count": 19,
      "outputs": []
    },
    {
      "cell_type": "code",
      "source": [
        "# PCA portered TF IDF\n",
        "total_components = len(X_portered_tf.columns)\n",
        "print (100/total_components)\n",
        "n_components = 1350\n",
        "X_portered_tf_PCA_bio = perform_PCA (X_portered_tf, y, total_components, n_components)"
      ],
      "metadata": {
        "colab": {
          "base_uri": "https://localhost:8080/",
          "height": 422
        },
        "id": "0UVn75bnRxKP",
        "outputId": "07638e58-d370-485a-9953-bf88f22d0dad"
      },
      "execution_count": 20,
      "outputs": [
        {
          "output_type": "stream",
          "name": "stdout",
          "text": [
            "0.05\n",
            "Variance explained by all 2000 principal components = 100.0000000000001\n",
            "[ 11.98809217  13.10239091  13.95960529 ... 100.         100.\n",
            " 100.        ]\n",
            "\n",
            "96.26887506033768\n",
            "1350\n",
            "\n"
          ]
        },
        {
          "output_type": "display_data",
          "data": {
            "text/plain": [
              "<Figure size 432x288 with 1 Axes>"
            ],
            "image/png": "[encoded data removed]"
          },
          "metadata": {
            "needs_background": "light"
          }
        }
      ]
    },
    {
      "cell_type": "code",
      "source": [
        "X_train_portered_tf_bio, X_test_portered_tf_bio,y_train_portered_tf_bio,y_test_portered_tf_bio=split_data_train_test_split(X_portered_tf_PCA_bio,y)"
      ],
      "metadata": {
        "id": "FMq4XfkuRyr7"
      },
      "execution_count": 21,
      "outputs": []
    },
    {
      "cell_type": "code",
      "source": [
        "from sklearn.svm import SVC\n",
        "svclassifier_bio = SVC(C= 0.5, gamma= 1, kernel= 'linear',probability=True)\n",
        "svclassifier_bio.fit(X_train_portered_tf_bio, y_train_portered_tf_bio)\n",
        "y_pred_bio = svclassifier_bio.predict(X_test_portered_tf_bio)\n"
      ],
      "metadata": {
        "id": "cNpldD7FR1F8"
      },
      "execution_count": 22,
      "outputs": []
    },
    {
      "cell_type": "code",
      "source": [
        "#hashtags"
      ],
      "metadata": {
        "id": "BlT_puJPUxYz"
      },
      "execution_count": 23,
      "outputs": []
    },
    {
      "cell_type": "code",
      "source": [
        "file_prefix = 'hashtag'\n",
        "bio_field = 'hashtag'\n",
        "bag_size = 1500"
      ],
      "metadata": {
        "id": "xgt7y5XzUziG"
      },
      "execution_count": 24,
      "outputs": []
    },
    {
      "cell_type": "code",
      "source": [
        "csvname=file_prefix+\".csv\" #changed\n",
        "data_orig=pd.read_csv(csvname)\n",
        "data=data_orig.copy()\n",
        "data.drop(data.columns[data.columns.str.contains('unnamed',case = False)],axis = 1, inplace = True)\n",
        "rows=len(data)"
      ],
      "metadata": {
        "id": "6JJ4yxXqU36i"
      },
      "execution_count": 25,
      "outputs": []
    },
    {
      "cell_type": "code",
      "source": [
        "filtered_data=filter_text(data,bio_field)\n",
        "# filtered_data\n",
        "\n",
        "portered_stemmed_data=porterstemming(filtered_data)\n",
        "# portered_stemmed_data\n",
        "\n",
        "lemmatization_data=lemmatization(filtered_data)\n",
        "# lemmatization_data\n",
        "\n",
        "y_portered,portered_corpus=create_corpus_and_y(portered_stemmed_data)\n",
        "y_lemmatization,lemmatization_corpus=create_corpus_and_y(lemmatization_data)\n",
        "\n",
        "X_portered_CV=count_vec(portered_corpus)\n",
        "X_lemmatization_CV=count_vec(lemmatization_corpus)\n",
        "\n",
        "df_portered_CV = pd.DataFrame(X_portered_CV)\n",
        "df_portered_CV['class'] = y_portered\n",
        "# df_portered_CV\n",
        "\n",
        "df_lemmatization_CV = pd.DataFrame(X_lemmatization_CV)\n",
        "df_lemmatization_CV['class'] = y_lemmatization\n",
        "# df_lemmatization_CV\n",
        "\n",
        "X_portered_TF_IDF=tf_idf_vec(portered_corpus)\n",
        "X_lemmatization_TF_IDF=tf_idf_vec(lemmatization_corpus)\n",
        "\n",
        "df_portered_TF_IDF = pd.DataFrame(X_portered_TF_IDF)\n",
        "df_portered_TF_IDF['class'] = y_portered\n",
        "# df_portered_TF_IDF\n",
        "\n",
        "df_lemmatization_TF_IDF = pd.DataFrame(X_lemmatization_TF_IDF)\n",
        "df_lemmatization_TF_IDF['class'] = y_lemmatization\n",
        "# df_lemmatization_TF_IDF\n",
        "\n",
        "# PCA on portered data\n",
        "y = df_portered_TF_IDF['class']\n",
        "X_portered_tf = df_portered_TF_IDF.copy()\n",
        "X_portered_tf.drop ('class', axis=1, inplace=True)\n",
        "\n",
        "X_portered_cv = df_portered_CV.copy()\n",
        "X_portered_cv.drop ('class', axis=1, inplace=True)\n",
        "\n",
        "# PCA portered TF IDF\n",
        "total_components = min(len(df_portered_TF_IDF.columns)-1, len(X_portered_tf))\n",
        "print (100/total_components)\n",
        "n_components = 300\n",
        "X_portered_tf_PCA_hashtag = perform_PCA (X_portered_tf, y, total_components, n_components)\n",
        "\n",
        "X_train_portered_tf_hashtag, X_test_portered_tf_hashtag,y_train_portered_tf_hashtag,y_test_portered_tf_hashtag=split_data_train_test_split(X_portered_tf_PCA_hashtag,y)"
      ],
      "metadata": {
        "colab": {
          "base_uri": "https://localhost:8080/",
          "height": 1000
        },
        "id": "Sl5h05GcU74S",
        "outputId": "0d2d7b9b-81e7-4a65-be6f-0d58b9f8b8ee"
      },
      "execution_count": 26,
      "outputs": [
        {
          "output_type": "stream",
          "name": "stdout",
          "text": [
            "0.13368983957219252\n",
            "Variance explained by all 748 principal components = 99.99999999999972\n",
            "[ 56.2576796   63.96896201  65.68928171  66.3346172   66.95406219\n",
            "  67.55719448  68.12584803  68.68548118  69.2180204   69.73447458\n",
            "  70.12049119  70.5020421   70.88002144  71.24843564  71.60348565\n",
            "  71.94175492  72.26416827  72.56682012  72.86035717  73.13458884\n",
            "  73.38756977  73.63765459  73.88071438  74.12221822  74.36192388\n",
            "  74.59608265  74.82780423  75.05796508  75.28445657  75.50043225\n",
            "  75.70505902  75.90650463  76.10297563  76.2862819   76.46869533\n",
            "  76.64434539  76.81821177  76.98915245  77.1575547   77.32118037\n",
            "  77.483559    77.6452512   77.80259038  77.95690886  78.10806409\n",
            "  78.25327385  78.3974595   78.53457951  78.67169951  78.80881952\n",
            "  78.94593952  79.08305952  79.22017953  79.3568919   79.49098152\n",
            "  79.62398248  79.75485095  79.88425191  80.01256884  80.14037303\n",
            "  80.26782524  80.39146057  80.51420363  80.6328581   80.75134648\n",
            "  80.86924559  80.98660621  81.10329501  81.21830899  81.33086399\n",
            "  81.44272783  81.55424584  81.6646878   81.77471102  81.88419785\n",
            "  81.99267252  82.09926901  82.20402192  82.30814735  82.41141159\n",
            "  82.51286828  82.61095788  82.70854455  82.80552247  82.90228126\n",
            "  82.99894412  83.09412188  83.18842307  83.28187152  83.37443007\n",
            "  83.46575975  83.55556264  83.64490642  83.73383329  83.82223993\n",
            "  83.91052272  83.9981972   84.08456143  84.17068508  84.25670083\n",
            "  84.34218294  84.42663435  84.50911943  84.59138721  84.67216366\n",
            "  84.7524307   84.82892508  84.90510841  84.98113411  85.05648348\n",
            "  85.13109173  85.20559729  85.27867886  85.35130509  85.42325139\n",
            "  85.49447203  85.56527591  85.63545549  85.70479374  85.7736865\n",
            "  85.8422465   85.91080651  85.97936651  86.04792651  86.11648651\n",
            "  86.18504651  86.25360652  86.32216652  86.39072652  86.45928652\n",
            "  86.52784652  86.59640653  86.66496653  86.73352653  86.80208653\n",
            "  86.87064653  86.93920654  87.00776654  87.07632654  87.14488654\n",
            "  87.21344654  87.28200655  87.35056655  87.41912655  87.48768655\n",
            "  87.55624655  87.62480655  87.69336656  87.76192656  87.83048656\n",
            "  87.89904656  87.96760656  88.03616657  88.10472657  88.17328657\n",
            "  88.24184657  88.31040657  88.37896658  88.44752658  88.51608658\n",
            "  88.58464658  88.65320658  88.72176659  88.79032659  88.85888659\n",
            "  88.92744659  88.99600659  89.0645666   89.1331266   89.2016866\n",
            "  89.2702466   89.3388066   89.40736661  89.47592661  89.54448661\n",
            "  89.61304661  89.68160661  89.75016661  89.81872662  89.88728662\n",
            "  89.95584662  90.02440662  90.09296662  90.16152663  90.23008663\n",
            "  90.29864663  90.36720663  90.43576663  90.50432664  90.57288664\n",
            "  90.64144664  90.71000664  90.77856664  90.84712665  90.91568665\n",
            "  90.98424665  91.05280665  91.12136665  91.18992666  91.25848666\n",
            "  91.32704666  91.39560666  91.46416666  91.53272667  91.60128667\n",
            "  91.66984667  91.73840667  91.80696667  91.87552667  91.94408668\n",
            "  92.01264668  92.08099137  92.14834947  92.21554015  92.28270077\n",
            "  92.34944684  92.41564884  92.48183682  92.54763914  92.61308553\n",
            "  92.67851889  92.74256712  92.80654172  92.87051632  92.93449093\n",
            "  92.99846553  93.06244013  93.12641473  93.19038933  93.25412599\n",
            "  93.31753769  93.38088832  93.44398375  93.50631576  93.5680923\n",
            "  93.62980431  93.69057183  93.7505709   93.81053501  93.87049912\n",
            "  93.93046323  93.99042734  94.05039144  94.11035555  94.17031966\n",
            "  94.23028377  94.29024788  94.35021199  94.4101761   94.47014021\n",
            "  94.53010432  94.59006843  94.65003254  94.70999665  94.76996076\n",
            "  94.82992487  94.88988898  94.94985309  95.0098172   95.0697813\n",
            "  95.12974541  95.18970952  95.24967363  95.30963774  95.36960185\n",
            "  95.42956596  95.48953007  95.54949418  95.60945829  95.6694224\n",
            "  95.72938651  95.78809366  95.8464252   95.90409503  95.96151138\n",
            "  96.01818669  96.07425896  96.12968595  96.18441484  96.23857835\n",
            "  96.29271527  96.34665504  96.39969366  96.45246493  96.50523148\n",
            "  96.55758142  96.60986838  96.66201259  96.71386569  96.76558869\n",
            "  96.81716476  96.86832636  96.91920448  96.96935214  97.01921051\n",
            "  97.06880227  97.11769554  97.16611101  97.21405053  97.26150633\n",
            "  97.308337    97.35489058  97.40129384  97.44744879  97.49327355\n",
            "  97.53874055  97.58414787  97.62921629  97.67414004  97.71815403\n",
            "  97.76200989  97.80532021  97.84815338  97.89076045  97.933205\n",
            "  97.97511244  98.01701988  98.05892732  98.10068516  98.14182253\n",
            "  98.1823268   98.22272003  98.2623263   98.30145601  98.33984032\n",
            "  98.37780472  98.41568099  98.45308248  98.49017088  98.52677937\n",
            "  98.56269661  98.59841266  98.63301981  98.66757689  98.70209561\n",
            "  98.73651905  98.77021374  98.80375015  98.83573253  98.86757803\n",
            "  98.8991753   98.9302087   98.9608578   98.99143804  99.0219544\n",
            "  99.05151053  99.08057977  99.10923255  99.13774273  99.1648146\n",
            "  99.19147659  99.2178057   99.24376221  99.26950609  99.29490307\n",
            "  99.31998825  99.34427202  99.36852666  99.39252433  99.41606882\n",
            "  99.43923484  99.46238727  99.48535667  99.50789425  99.53030619\n",
            "  99.55228749  99.57417189  99.59570715  99.61712776  99.63802431\n",
            "  99.65873364  99.67847241  99.69787872  99.71688014  99.73505062\n",
            "  99.75310917  99.77087524  99.78837128  99.80571736  99.82235563\n",
            "  99.83858376  99.85446807  99.87002397  99.88530876  99.90029856\n",
            "  99.91467999  99.92794168  99.93999756  99.95022845  99.9598349\n",
            "  99.96813937  99.97556863  99.98210209  99.98840639  99.99418575\n",
            "  99.99712415 100.         100.         100.         100.\n",
            " 100.         100.         100.         100.         100.\n",
            " 100.         100.         100.         100.         100.\n",
            " 100.         100.         100.         100.         100.\n",
            " 100.         100.         100.         100.         100.\n",
            " 100.         100.         100.         100.         100.\n",
            " 100.         100.         100.         100.         100.\n",
            " 100.         100.         100.         100.         100.\n",
            " 100.         100.         100.         100.         100.\n",
            " 100.         100.         100.         100.         100.\n",
            " 100.         100.         100.         100.         100.\n",
            " 100.         100.         100.         100.         100.\n",
            " 100.         100.         100.         100.         100.\n",
            " 100.         100.         100.         100.         100.\n",
            " 100.         100.         100.         100.         100.\n",
            " 100.         100.         100.         100.         100.\n",
            " 100.         100.         100.         100.         100.\n",
            " 100.         100.         100.         100.         100.\n",
            " 100.         100.         100.         100.         100.\n",
            " 100.         100.         100.         100.         100.\n",
            " 100.         100.         100.         100.         100.\n",
            " 100.         100.         100.         100.         100.\n",
            " 100.         100.         100.         100.         100.\n",
            " 100.         100.         100.         100.         100.\n",
            " 100.         100.         100.         100.         100.\n",
            " 100.         100.         100.         100.         100.\n",
            " 100.         100.         100.         100.         100.\n",
            " 100.         100.         100.         100.         100.\n",
            " 100.         100.         100.         100.         100.\n",
            " 100.         100.         100.         100.         100.\n",
            " 100.         100.         100.         100.         100.\n",
            " 100.         100.         100.         100.         100.\n",
            " 100.         100.         100.         100.         100.\n",
            " 100.         100.         100.         100.         100.\n",
            " 100.         100.         100.         100.         100.\n",
            " 100.         100.         100.         100.         100.\n",
            " 100.         100.         100.         100.         100.\n",
            " 100.         100.         100.         100.         100.\n",
            " 100.         100.         100.         100.         100.\n",
            " 100.         100.         100.         100.         100.\n",
            " 100.         100.         100.         100.         100.\n",
            " 100.         100.         100.         100.         100.\n",
            " 100.         100.         100.         100.         100.\n",
            " 100.         100.         100.         100.         100.\n",
            " 100.         100.         100.         100.         100.\n",
            " 100.         100.         100.         100.         100.\n",
            " 100.         100.         100.         100.         100.\n",
            " 100.         100.         100.         100.         100.\n",
            " 100.         100.         100.         100.         100.\n",
            " 100.         100.         100.         100.         100.\n",
            " 100.         100.         100.         100.         100.\n",
            " 100.         100.         100.         100.         100.\n",
            " 100.         100.         100.         100.         100.\n",
            " 100.         100.         100.         100.         100.\n",
            " 100.         100.         100.         100.         100.\n",
            " 100.         100.         100.         100.         100.\n",
            " 100.         100.         100.         100.         100.\n",
            " 100.         100.         100.         100.         100.\n",
            " 100.         100.         100.         100.         100.\n",
            " 100.         100.         100.         100.         100.\n",
            " 100.         100.         100.         100.         100.\n",
            " 100.         100.         100.         100.         100.\n",
            " 100.         100.         100.         100.         100.\n",
            " 100.         100.         100.         100.         100.\n",
            " 100.         100.         100.         100.         100.\n",
            " 100.         100.         100.         100.         100.\n",
            " 100.         100.         100.         100.         100.\n",
            " 100.         100.         100.         100.         100.\n",
            " 100.         100.         100.         100.         100.\n",
            " 100.         100.         100.         100.         100.\n",
            " 100.         100.         100.        ]\n",
            "\n",
            "97.26150632923309\n",
            "300\n",
            "\n"
          ]
        },
        {
          "output_type": "display_data",
          "data": {
            "text/plain": [
              "<Figure size 432x288 with 1 Axes>"
            ],
            "image/png": "[encoded data removed]"
          },
          "metadata": {
            "needs_background": "light"
          }
        }
      ]
    },
    {
      "cell_type": "code",
      "source": [
        "from sklearn.svm import SVC\n",
        "svclassifier_hashtag = SVC(C= 1, gamma= 1, kernel= 'poly',probability=True)\n",
        "svclassifier_hashtag.fit(X_train_portered_tf_hashtag, y_train_portered_tf_hashtag)\n",
        "y_pred_hashtag = svclassifier_hashtag.predict(X_test_portered_tf_hashtag)"
      ],
      "metadata": {
        "id": "FWMM-ouHWuXo"
      },
      "execution_count": 27,
      "outputs": []
    },
    {
      "cell_type": "code",
      "source": [
        "#Tweets\n",
        "file_prefix = 'tweet'\n",
        "bio_field = 'text'\n",
        "bag_size = 2000\n",
        "\n",
        "# load data\n",
        "# csvname=\"filtered_dataset/\"+file_prefix+\".csv\" #changed\n",
        "csvname=file_prefix+\".csv\" #changed\n",
        "data_orig=pd.read_csv(csvname)\n",
        "data=data_orig.copy()\n",
        "data.drop(data.columns[data.columns.str.contains('unnamed',case = False)],axis = 1, inplace = True)\n",
        "rows=len(data)\n",
        "\n",
        "filtered_data=filter_text(data, bio_field)\n",
        "# filtered_data\n",
        "\n",
        "portered_stemmed_data=porterstemming(filtered_data)\n",
        "# portered_stemmed_data\n",
        "\n",
        "lemmatization_data=lemmatization(filtered_data)\n",
        "# lemmatization_data\n",
        "\n",
        "y_portered,portered_corpus=create_corpus_and_y(portered_stemmed_data)\n",
        "y_lemmatization,lemmatization_corpus=create_corpus_and_y(lemmatization_data)\n",
        "\n",
        "X_portered_CV=count_vec(portered_corpus)\n",
        "X_lemmatization_CV=count_vec(lemmatization_corpus)\n",
        "\n",
        "df_portered_CV = pd.DataFrame(X_portered_CV)\n",
        "df_portered_CV['class'] = y_portered\n",
        "# df_portered_CV\n",
        "\n",
        "df_lemmatization_CV = pd.DataFrame(X_lemmatization_CV)\n",
        "df_lemmatization_CV['class'] = y_lemmatization\n",
        "# df_lemmatization_CV\n",
        "\n",
        "X_portered_TF_IDF=tf_idf_vec(portered_corpus)\n",
        "X_lemmatization_TF_IDF=tf_idf_vec(lemmatization_corpus)\n",
        "\n",
        "df_portered_TF_IDF = pd.DataFrame(X_portered_TF_IDF)\n",
        "df_portered_TF_IDF['class'] = y_portered\n",
        "# df_portered_TF_IDF\n",
        "\n",
        "df_lemmatization_TF_IDF = pd.DataFrame(X_lemmatization_TF_IDF)\n",
        "df_lemmatization_TF_IDF['class'] = y_lemmatization\n",
        "# df_lemmatization_TF_IDF"
      ],
      "metadata": {
        "id": "AblaO9dYWuph"
      },
      "execution_count": 28,
      "outputs": []
    },
    {
      "cell_type": "code",
      "source": [
        "# PCA on portered data\n",
        "y = df_portered_TF_IDF['class']\n",
        "X_portered_tf = df_portered_TF_IDF.copy()\n",
        "X_portered_tf.drop ('class', axis=1, inplace=True)\n",
        "\n",
        "X_portered_cv = df_portered_CV.copy()\n",
        "X_portered_cv.drop ('class', axis=1, inplace=True)\n",
        "\n",
        "# PCA portered TF IDF\n",
        "total_components = min(len(df_portered_TF_IDF.columns)-1, len(X_portered_tf))\n",
        "print (100/total_components)\n",
        "n_components = 1350\n",
        "X_portered_tf_PCA_text = perform_PCA (X_portered_tf, y, total_components, n_components)\n",
        "\n",
        "X_train_portered_tf_text, X_test_portered_tf_text,y_train_portered_tf_text,y_test_portered_tf_text=split_data_train_test_split(X_portered_tf_PCA_text,y)"
      ],
      "metadata": {
        "colab": {
          "base_uri": "https://localhost:8080/",
          "height": 422
        },
        "id": "IMkuulSfoaOP",
        "outputId": "397b66c3-0878-4eac-c845-8058987dd9e8"
      },
      "execution_count": 29,
      "outputs": [
        {
          "output_type": "stream",
          "name": "stdout",
          "text": [
            "0.05\n",
            "Variance explained by all 2000 principal components = 99.99999999999991\n",
            "[  2.86549313   4.97604969   6.36904749 ... 100.         100.\n",
            " 100.        ]\n",
            "\n",
            "96.04827219751017\n",
            "1350\n",
            "\n"
          ]
        },
        {
          "output_type": "display_data",
          "data": {
            "text/plain": [
              "<Figure size 432x288 with 1 Axes>"
            ],
            "image/png": "[encoded data removed]"
          },
          "metadata": {
            "needs_background": "light"
          }
        }
      ]
    },
    {
      "cell_type": "code",
      "source": [
        "from sklearn.svm import SVC\n",
        "svclassifier_text = SVC(C= 1, gamma= 1, kernel= 'rbf',probability=True)\n",
        "svclassifier_text.fit(X_train_portered_tf_text, y_train_portered_tf_text)\n",
        "y_pred_text = svclassifier_text.predict(X_test_portered_tf_text)"
      ],
      "metadata": {
        "id": "IW5a4qhRhxSs"
      },
      "execution_count": 30,
      "outputs": []
    },
    {
      "cell_type": "code",
      "source": [
        "\n",
        "from sklearn.metrics import accuracy_score\n",
        "from sklearn.metrics import precision_score\n",
        "from sklearn.metrics import recall_score\n",
        "from sklearn.metrics import confusion_matrix\n",
        "from sklearn.metrics import f1_score\n",
        "\n",
        "def getResult(y_test, res):\n",
        "    result = Result(y_test, res)\n",
        "    result.show()\n",
        "    return result\n",
        "\n",
        "y_pred_text_ = svclassifier_text.predict(X_test_portered_tf_text)\n",
        "getResult(y_test_portered_tf_text, y_pred_text_)\n"
      ],
      "metadata": {
        "colab": {
          "base_uri": "https://localhost:8080/"
        },
        "id": "MBAfMBSUwc_g",
        "outputId": "9effa982-4d13-4c62-bda1-f9ce04dec997"
      },
      "execution_count": 31,
      "outputs": [
        {
          "output_type": "stream",
          "name": "stdout",
          "text": [
            "Accuracy =  94.62616822429906 %\n",
            "Precision =  93.48837209302326\n",
            "Recall =  95.71428571428572\n",
            "F1 Score =  94.58823529411765\n",
            "Confusion Matrix: \n",
            " [[204  14]\n",
            " [  9 201]]\n"
          ]
        },
        {
          "output_type": "execute_result",
          "data": {
            "text/plain": [
              "<__main__.Result at 0x7f5cd12bb730>"
            ]
          },
          "metadata": {},
          "execution_count": 31
        }
      ]
    },
    {
      "cell_type": "code",
      "source": [
        "#Features"
      ],
      "metadata": {
        "id": "H-LyQb1YWxMK"
      },
      "execution_count": 32,
      "outputs": []
    },
    {
      "cell_type": "code",
      "source": [
        "other_file_prefix = 'others'\n"
      ],
      "metadata": {
        "id": "QjLD0MHPWyVN"
      },
      "execution_count": 33,
      "outputs": []
    },
    {
      "cell_type": "code",
      "source": [
        "csvname=other_file_prefix+\".csv\" #changed\n",
        "# csvname=file_prefix+\".csv\" #changed\n",
        "other_data=pd.read_csv(csvname)"
      ],
      "metadata": {
        "id": "3Z0wvxdgWyYe"
      },
      "execution_count": 34,
      "outputs": []
    },
    {
      "cell_type": "code",
      "source": [
        "def normalize(df):\n",
        "    for feature in df.columns:\n",
        "        if feature != 'class':\n",
        "            feature_min = df[feature].min()\n",
        "            feature_max = df[feature].max()\n",
        "            df[feature] = (df[feature] - feature_min) / (feature_max - feature_min)    \n",
        "\n",
        "    return df"
      ],
      "metadata": {
        "id": "SQ5NSkQEYHSO"
      },
      "execution_count": 35,
      "outputs": []
    },
    {
      "cell_type": "code",
      "source": [
        "df = normalize(other_data)"
      ],
      "metadata": {
        "id": "tvcmSTs1YHVm"
      },
      "execution_count": 36,
      "outputs": []
    },
    {
      "cell_type": "code",
      "source": [
        "y = df['class']\n",
        "X = df.copy()\n",
        "X.drop ('class', axis=1, inplace=True)"
      ],
      "metadata": {
        "id": "1n306zksYHYk"
      },
      "execution_count": 37,
      "outputs": []
    },
    {
      "cell_type": "code",
      "source": [
        "# PCA lemmatization CV\n",
        "total_components = len(X.columns)\n",
        "# X_lemmatization_cv\n",
        "n_components = 3\n",
        "X_PCA_others = perform_PCA (X, y, total_components, n_components)"
      ],
      "metadata": {
        "colab": {
          "base_uri": "https://localhost:8080/",
          "height": 422
        },
        "id": "GFWcPwKkYHbO",
        "outputId": "4ed29b3c-eca1-4cfa-c67e-0072cc408a62"
      },
      "execution_count": 38,
      "outputs": [
        {
          "output_type": "stream",
          "name": "stdout",
          "text": [
            "Variance explained by all 11 principal components = 100.00000000000001\n",
            "[ 63.36252455  86.1644634   98.47953451  99.32311723  99.59497593\n",
            "  99.78225891  99.89824597  99.94424806  99.97041504  99.99125607\n",
            " 100.        ]\n",
            "\n",
            "98.47953451198106\n",
            "3\n",
            "\n"
          ]
        },
        {
          "output_type": "display_data",
          "data": {
            "text/plain": [
              "<Figure size 432x288 with 1 Axes>"
            ],
            "image/png": "[encoded data removed]"
          },
          "metadata": {
            "needs_background": "light"
          }
        }
      ]
    },
    {
      "cell_type": "code",
      "source": [
        "X_train_others,X_test_others,y_train_others,y_test_others=split_data_train_test_split(X_PCA_others,y)"
      ],
      "metadata": {
        "id": "EnyPq5qXYHhC"
      },
      "execution_count": 39,
      "outputs": []
    },
    {
      "cell_type": "code",
      "source": [
        "from sklearn.svm import SVC\n",
        "svclassifier_others = SVC(C= 0.1, gamma= 1, kernel= 'rbf',probability=True)\n",
        "svclassifier_others.fit(X_train_others, y_train_others)\n",
        "y_pred_others = svclassifier_others.predict(X_test_others)"
      ],
      "metadata": {
        "id": "oPrpLAdsYHuB"
      },
      "execution_count": 40,
      "outputs": []
    },
    {
      "cell_type": "code",
      "source": [
        "#Ensemble"
      ],
      "metadata": {
        "id": "J9x987wqWya_"
      },
      "execution_count": 41,
      "outputs": []
    },
    {
      "cell_type": "code",
      "source": [
        "for i in range(len(y_pred_text)):\n",
        "  if y_pred_text[i]==0:\n",
        "    y_pred_text[i]=-1\n",
        "# for i in range(len(y_pred_hashtag)):\n",
        "#   if y_pred_hashtag[i]==0:\n",
        "#     y_pred_hashtag[i]=-1\n",
        "for i in range(len(y_pred_bio)):\n",
        "  if y_pred_bio[i]==0:\n",
        "    y_pred_bio[i]=-1\n",
        "for i in range(len(y_pred_others)):\n",
        "  if y_pred_others[i]==0:\n",
        "    y_pred_others[i]=-1"
      ],
      "metadata": {
        "id": "nN4XDlYVWzu5"
      },
      "execution_count": 42,
      "outputs": []
    },
    {
      "cell_type": "code",
      "source": [
        "# y_pred_text_prob=SVC1.predict_proba(X_test)\n",
        "# y_pred_hashtag_prob=RF.predict_proba(X_test)\n",
        "y_pred_bio_prob=svclassifier_bio.predict_proba(X_test_portered_tf_bio)\n",
        "y_pred_others_prob=svclassifier_others.predict_proba(X_test_others)\n",
        "y_pred_text_prob = svclassifier_text.predict_proba(X_test_portered_tf_text)\n",
        "y_pred_hashtag_prob=svclassifier_hashtag.predict_proba(X_test_portered_tf_hashtag)"
      ],
      "metadata": {
        "id": "Ll8Gh6GyW6zo"
      },
      "execution_count": 43,
      "outputs": []
    },
    {
      "cell_type": "code",
      "source": [
        "y_pred_text_prob=[max(y_pred_text_prob[i][0],y_pred_text_prob[i][1]) for i in range(len(y_pred_text_prob))]\n",
        "y_pred_hashtag_prob=[max(y_pred_hashtag_prob[i][0],y_pred_hashtag_prob[i][1]) for i in range(len(y_pred_hashtag_prob))]\n",
        "y_pred_bio_prob=[max(y_pred_bio_prob[i][0],y_pred_bio_prob[i][1]) for i in range(len(y_pred_bio_prob))]\n",
        "y_pred_others_prob=[max(y_pred_others_prob[i][0],y_pred_others_prob[i][1]) for i in range(len(y_pred_others_prob))]"
      ],
      "metadata": {
        "id": "fwK59z9TXAui"
      },
      "execution_count": 44,
      "outputs": []
    },
    {
      "cell_type": "code",
      "source": [
        "ensembled_acc=np.zeros(len(y_pred_bio_prob))\n",
        "weight=[1, 1, 1, 1] # Default 1 for now. We could change later\n",
        "for i in range(len(y_pred_bio_prob)):\n",
        "  ensembled_acc[i]=weight[0]*(y_pred_text[i] * y_pred_text_prob[i]) + weight[1]*(y_pred_hashtag[i] * y_pred_hashtag_prob[i]) +weight[2]*(y_pred_bio[i] * y_pred_bio_prob[i]) + weight[3]*(y_pred_others[i] * y_pred_others_prob[i]) \n",
        "  if ensembled_acc[i]>=0:\n",
        "    ensembled_acc[i]=1\n",
        "  else:\n",
        "    ensembled_acc[i]=0"
      ],
      "metadata": {
        "id": "BS_dUKLzXHoP"
      },
      "execution_count": 45,
      "outputs": []
    },
    {
      "cell_type": "code",
      "source": [
        "print(\"Ensembled Accuracy\",accuracy_score(y_test_others,ensembled_acc))\n",
        "print(\"Ensembled Precision\",precision_score(y_test_others,ensembled_acc))\n",
        "print(\"Ensembled Recall\",recall_score(y_test_others,ensembled_acc))\n",
        "print(\"Ensembled F1\",f1_score(y_test_others,ensembled_acc))\n",
        "\n",
        "# Ensembled Accuracy 0.866822429906542\n",
        "# Ensembled Precision 0.8047808764940239\n",
        "# Ensembled Recall 0.9619047619047619\n",
        "# Ensembled F1 0.876355748373102"
      ],
      "metadata": {
        "colab": {
          "base_uri": "https://localhost:8080/"
        },
        "id": "jiw7qOooXObE",
        "outputId": "d9b74ef8-2f3b-49c4-8995-adcdd6393a86"
      },
      "execution_count": 46,
      "outputs": [
        {
          "output_type": "stream",
          "name": "stdout",
          "text": [
            "Ensembled Accuracy 0.866822429906542\n",
            "Ensembled Precision 0.8047808764940239\n",
            "Ensembled Recall 0.9619047619047619\n",
            "Ensembled F1 0.876355748373102\n"
          ]
        }
      ]
    }
  ]
}