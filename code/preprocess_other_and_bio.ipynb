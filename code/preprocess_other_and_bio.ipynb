{
 "cells": [
  {
   "cell_type": "code",
   "execution_count": 1,
   "id": "60d30a71-caa4-4c0e-9fee-2eab46d8e333",
   "metadata": {},
   "outputs": [],
   "source": [
    "import pandas as pd\n",
    "import os\n",
    "from datetime import date\n",
    "import numpy as np\n",
    "import matplotlib.pyplot as plt\n",
    "from sklearn.ensemble import RandomForestClassifier\n",
    "from sklearn.metrics import precision_recall_fscore_support\n",
    "\n",
    "def diff_month(d1, d2):\n",
    "    return (d1.year - d2.year) * 12 + d1.month - d2.month\n",
    "\n",
    "#Read dataset\n",
    "df = pd.read_csv('filtered_dataset/others.csv')\n",
    "df2 = pd.read_csv('processed_dataset/bio_portered_CV.csv')\n",
    "df = df.drop(['class'],axis=1)\n",
    "               \n",
    "#Create new column for age of account in months at time of tweet\n",
    "df.insert(0, 'user_account_age_months', [diff_month(date1,date2) for date1, date2 in zip(pd.to_datetime(df['created_at'], infer_datetime_format=True), pd.to_datetime(df['user created at'], infer_datetime_format=True))])\n",
    "\n",
    "#Convert boolean columns to integers\n",
    "df['user is verified'] = [int(x == True) for x in df['user is verified']]\n",
    "df['user has url'] = [int(x == True) for x in df['user has url']]\n",
    "\n",
    "#drop unneeded columns\n",
    "df = df.drop(['created_at'], axis=1)\n",
    "df = df.drop(['user created at'], axis=1)\n",
    "\n",
    "#write processed dataset to .csv\n",
    "os.makedirs('processed_dataset', exist_ok=True)\n",
    "df.to_csv('processed_dataset/others.csv',index=False) "
   ]
  },
  {
   "cell_type": "code",
   "execution_count": 2,
   "id": "2e67418f-aa4d-45b0-b400-471652056d0e",
   "metadata": {},
   "outputs": [],
   "source": [
    "df3 = pd.concat([df,df2], axis=1, join='inner')\n",
    "df = df3"
   ]
  },
  {
   "cell_type": "code",
   "execution_count": 3,
   "id": "7bafff8a-082a-44eb-8add-52bf83f67408",
   "metadata": {},
   "outputs": [],
   "source": [
    "def split_data_train_test_split(X,y):\n",
    " from sklearn.model_selection import train_test_split\n",
    " X_train, X_test, y_train, y_test = train_test_split(X, y, test_size = 0.2, random_state = 0)\n",
    " return(X_train, X_test,y_train,y_test)"
   ]
  },
  {
   "cell_type": "code",
   "execution_count": 4,
   "id": "b14b80b6-14f1-4f38-9c7b-af56b4aa8293",
   "metadata": {},
   "outputs": [],
   "source": [
    "from sklearn.decomposition import PCA\n",
    "def perform_PCA (X_train, y_train, total_components, n_components):\n",
    "  pca = PCA(n_components=total_components, random_state=0)\n",
    "  pca.fit(X_train)\n",
    "  X_pca = pca.transform(X_train)\n",
    "\n",
    "  print(\"Variance explained by all\", total_components, \"principal components =\", sum(pca.explained_variance_ratio_ * 100))\n",
    "\n",
    "  csum = np.cumsum(pca.explained_variance_ratio_ * 100)\n",
    "  print(csum)\n",
    "  print ()\n",
    "\n",
    "  # plot \n",
    "  import matplotlib.pyplot as plt\n",
    "  plt.plot(csum)\n",
    "  plt.xlabel('Number of components')\n",
    "  plt.ylabel('Explained variance')\n",
    "  #plt.savefig('elbow_plot.png', dpi=100)\n",
    "\n",
    "  # find the number of components\n",
    "  print (csum[n_components-1])\n",
    "\n",
    "  x_train_pca=[x[:n_components] for x in X_pca]\n",
    "\n",
    "  print (len(x_train_pca[0]))\n",
    "  print ()\n",
    "\n",
    "  return x_train_pca"
   ]
  },
  {
   "cell_type": "code",
   "execution_count": 5,
   "id": "a85e877c-7ffb-4b44-9af9-361752690e53",
   "metadata": {},
   "outputs": [],
   "source": [
    "def normalize(df):\n",
    "    for feature in df.columns:\n",
    "        feature_min = df[feature].min()\n",
    "        feature_max = df[feature].max()\n",
    "        df[feature] = (df[feature] - feature_min) / (feature_max - feature_min)    \n",
    "    return df"
   ]
  },
  {
   "cell_type": "code",
   "execution_count": 6,
   "id": "5fcf7494-4e2c-41c3-b391-49a577d5e751",
   "metadata": {},
   "outputs": [],
   "source": [
    "#PCA on data\n",
    "y = df['class']\n",
    "X = df.copy()\n",
    "X.drop ('class', axis=1, inplace=True)\n",
    "X = normalize(X)"
   ]
  },
  {
   "cell_type": "code",
   "execution_count": 7,
   "id": "09845fd2-ccdb-459d-9da9-d7bf811e18dd",
   "metadata": {},
   "outputs": [
    {
     "name": "stdout",
     "output_type": "stream",
     "text": [
      "Variance explained by all 1511 principal components = 100.00000000000001\n",
      "[  6.99529653   9.51222987  11.19752543 ... 100.         100.\n",
      " 100.        ]\n",
      "\n",
      "95.9032627761354\n",
      "1000\n",
      "\n"
     ]
    },
    {
     "data": {
      "image/png": "[encoded data removed]",
      "text/plain": [
       "<Figure size 640x480 with 1 Axes>"
      ]
     },
     "metadata": {},
     "output_type": "display_data"
    }
   ],
   "source": [
    "# PCA\n",
    "X_pca = perform_PCA(X, y, len(X.columns), 1000)"
   ]
  },
  {
   "cell_type": "code",
   "execution_count": 8,
   "id": "b3d2ff02-997e-4eeb-a582-e92d3809c38d",
   "metadata": {},
   "outputs": [],
   "source": [
    "X_train, X_test,y_train,y_test=split_data_train_test_split(X_pca,y)"
   ]
  },
  {
   "cell_type": "code",
   "execution_count": 9,
   "id": "ab50421b-9826-4db0-b78a-116de061cba7",
   "metadata": {},
   "outputs": [],
   "source": [
    "class Data:\n",
    "    def __init__(self, x_train, y_train, x_test, y_test):\n",
    "        self.x_train = x_train\n",
    "        self.y_train = y_train\n",
    "        self.x_test = x_test\n",
    "        self.y_test = y_test\n",
    "\n",
    "from sklearn.metrics import accuracy_score\n",
    "from sklearn.metrics import precision_score\n",
    "from sklearn.metrics import recall_score\n",
    "from sklearn.metrics import confusion_matrix\n",
    "from sklearn.metrics import f1_score\n",
    "\n",
    "class Result:\n",
    "    def __init__(self, y_test, y_pred, label=None):\n",
    "        self.label = label\n",
    "        self.accuracy = accuracy_score(y_test,y_pred) * 100\n",
    "        self.precision = precision_score(y_test, y_pred, average='binary')\n",
    "        self.recall = recall_score(y_test, y_pred, average='binary')\n",
    "        self.f1 = f1_score(y_test, y_pred, average='binary')\n",
    "        self.confusion_matrix = confusion_matrix(y_test, y_pred)\n",
    "        \n",
    "    def show(self):\n",
    "        print(\"Accuracy = \",self.accuracy,\"%\")\n",
    "        print(\"Precision = \",self.precision)\n",
    "        print(\"Recall = \",self.recall)\n",
    "        print(\"F1 Score = \",self.f1)\n",
    "        print(\"Confusion Matrix: \\n\", self.confusion_matrix)\n",
    "        \n",
    "def getResult(data, res):\n",
    "    result = Result(data.y_test, res)\n",
    "    result.show()\n",
    "    return result\n",
    "\n",
    "from sklearn.model_selection import GridSearchCV\n",
    "from sklearn import metrics\n",
    "from sklearn.metrics import make_scorer\n",
    "\n",
    "def getBestModel(data, model, param_grid, cv=10):\n",
    "    scorer = make_scorer(metrics.recall_score, average='binary')\n",
    "    grid = GridSearchCV(model, \n",
    "                        param_grid,\n",
    "                        cv=cv,\n",
    "                        scoring=scorer)\n",
    "\n",
    "    grid.fit(data.x_train, data.y_train)\n",
    "    \n",
    "    return grid"
   ]
  },
  {
   "cell_type": "code",
   "execution_count": 10,
   "id": "bd64b81e-f826-4a81-9295-a4cb08b8fbd7",
   "metadata": {},
   "outputs": [],
   "source": [
    "data = Data(X_train, y_train, X_test, y_test)"
   ]
  },
  {
   "cell_type": "code",
   "execution_count": 11,
   "id": "f60134c0-84d2-4313-bfab-c19f14c3a36b",
   "metadata": {},
   "outputs": [
    {
     "name": "stdout",
     "output_type": "stream",
     "text": [
      "Accuracy =  82.12435233160622 %\n",
      "Precision =  0.5671641791044776\n",
      "Recall =  0.17592592592592593\n",
      "F1 Score =  0.26855123674911663\n",
      "Confusion Matrix: \n",
      " [[913  29]\n",
      " [178  38]]\n"
     ]
    },
    {
     "data": {
      "text/plain": [
       "{'criterion': 'entropy',\n",
       " 'min_samples_leaf': 1,\n",
       " 'min_samples_split': 2,\n",
       " 'n_estimators': 100,\n",
       " 'random_state': 0}"
      ]
     },
     "execution_count": 11,
     "metadata": {},
     "output_type": "execute_result"
    }
   ],
   "source": [
    "\n",
    "random_forest_params_grid = {\n",
    "#    'n_estimators': [i for i in range(100, 1000, 10)],\n",
    "    'n_estimators': [100],\n",
    "    'criterion': ['gini', 'entropy'],\n",
    "    'criterion': ['entropy'],\n",
    "    'min_samples_leaf': [1, 2, 4],\n",
    "    'min_samples_split': [2, 5, 10],\n",
    "    'random_state': [0]\n",
    "}\n",
    "\n",
    "grid = getBestModel(data, RandomForestClassifier(), random_forest_params_grid,cv=2)\n",
    "\n",
    "y_pred = grid.predict(data.x_test)\n",
    "getResult(data, y_pred)\n",
    "grid.best_params_"
   ]
  },
  {
   "cell_type": "code",
   "execution_count": 12,
   "id": "2136da43-c4af-4a55-8454-b1102d819da0",
   "metadata": {},
   "outputs": [],
   "source": [
    "#SVM\n",
    "from sklearn.svm import SVC\n",
    "from sklearn import svm\n",
    "\n",
    "svm_param_grid = {'C': [0.1, 0.2, 0.3, 0.5, 1, 2, 3, 5, 10], \n",
    "                  'kernel': ['linear', 'rbf', 'poly', 'sigmoid'],\n",
    "                  'gamma': [1,0.1,0.01,0.001]\n",
    "                 } \n",
    "svm_param_grid = {'C': [0.1, 0.2, 0.3, 0.5, 1, 2, 3, 5, 10], \n",
    "                  'kernel': ['linear', 'rbf', 'poly', 'sigmoid'],\n",
    "                  'gamma': [1,0.1,0.01,0.001]\n",
    "                 } \n",
    "\n",
    "svm_param_grid = {'C': [0.1, 0.2, 0.3, 0.5, 1, 2, 3, 5, 10], \n",
    "                  'kernel': ['linear']\n",
    "#                  'gamma': [1,0.1,0.01,0.001]\n",
    "                  }\n",
    "\n",
    "#grid = getBestModel(data, svm.SVC(), svm_param_grid, cv=2)\n",
    "\n",
    "#y_pred = grid.predict(data.x_test)\n",
    "#getResult(data, y_pred)\n",
    "#grid.best_params_"
   ]
  }
 ],
 "metadata": {
  "kernelspec": {
   "display_name": "Python 3 (ipykernel)",
   "language": "python",
   "name": "python3"
  },
  "language_info": {
   "codemirror_mode": {
    "name": "ipython",
    "version": 3
   },
   "file_extension": ".py",
   "mimetype": "text/x-python",
   "name": "python",
   "nbconvert_exporter": "python",
   "pygments_lexer": "ipython3",
   "version": "3.9.12"
  }
 },
 "nbformat": 4,
 "nbformat_minor": 5
}
