{
 "cells": [
  {
   "cell_type": "code",
   "execution_count": 73,
   "id": "60d30a71-caa4-4c0e-9fee-2eab46d8e333",
   "metadata": {},
   "outputs": [],
   "source": [
    "import pandas as pd\n",
    "import os\n",
    "from datetime import date\n",
    "\n",
    "def diff_month(d1, d2):\n",
    "    return (d1.year - d2.year) * 12 + d1.month - d2.month\n",
    "\n",
    "#Read dataset\n",
    "df = pd.read_csv('filtered_dataset/others.csv')\n",
    "               \n",
    "#Create new column for age of account in months at time of tweet\n",
    "df.insert(0, 'user_account_age_months', [diff_month(date1,date2) for date1, date2 in zip(pd.to_datetime(df['created_at'], infer_datetime_format=True), pd.to_datetime(df['user created at'], infer_datetime_format=True))])\n",
    "\n",
    "#Convert boolean columns to integers\n",
    "df['user is verified'] = [int(x == True) for x in df['user is verified']]\n",
    "df['user has url'] = [int(x == True) for x in df['user has url']]\n",
    "\n",
    "#drop unneeded columns\n",
    "df = df.drop(['created_at'], axis=1)\n",
    "df = df.drop(['user created at'], axis=1)\n",
    "\n",
    "#write processed dataset to .csv\n",
    "os.makedirs('processed_dataset', exist_ok=True)\n",
    "df.to_csv('processed_dataset/others.csv',index=False) "
   ]
  }
 ],
 "metadata": {
  "kernelspec": {
   "display_name": "Python 3 (ipykernel)",
   "language": "python",
   "name": "python3"
  },
  "language_info": {
   "codemirror_mode": {
    "name": "ipython",
    "version": 3
   },
   "file_extension": ".py",
   "mimetype": "text/x-python",
   "name": "python",
   "nbconvert_exporter": "python",
   "pygments_lexer": "ipython3",
   "version": "3.9.12"
  }
 },
 "nbformat": 4,
 "nbformat_minor": 5
}
